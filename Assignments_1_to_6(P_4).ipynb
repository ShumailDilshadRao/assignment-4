{
  "nbformat": 4,
  "nbformat_minor": 0,
  "metadata": {
    "colab": {
      "provenance": [],
      "authorship_tag": "ABX9TyOW3pO12JfqgujrfegziM91",
      "include_colab_link": true
    },
    "kernelspec": {
      "name": "python3",
      "display_name": "Python 3"
    },
    "language_info": {
      "name": "python"
    }
  },
  "cells": [
    {
      "cell_type": "markdown",
      "metadata": {
        "id": "view-in-github",
        "colab_type": "text"
      },
      "source": [
        "<a href=\"https://colab.research.google.com/github/ShumailDilshadRao/assignment-4/blob/main/Assignments_1_to_6(P_4).ipynb\" target=\"_parent\"><img src=\"https://colab.research.google.com/assets/colab-badge.svg\" alt=\"Open In Colab\"/></a>"
      ]
    },
    {
      "cell_type": "code",
      "execution_count": null,
      "metadata": {
        "id": "xJkv5P8aRmXQ"
      },
      "outputs": [],
      "source": []
    },
    {
      "cell_type": "markdown",
      "source": [
        "# **Project 4 Rock, paper, scissors Python Project**"
      ],
      "metadata": {
        "id": "8bxHE4I-RtpB"
      }
    },
    {
      "cell_type": "code",
      "source": [
        "import random\n",
        "def play():\n",
        "    user  = input(\"What's your choice? 'r' for rock, 'p' for paper , 's' for scissors\")\n",
        "    computer = random.choice(['r', 'p','s'])\n",
        "\n",
        "    if user == computer:\n",
        "        return  'it \\'is a'tie'\n",
        "     #r > s , s > p ,p > r\n",
        "    if is_win (user, computer):\n",
        "        return  'You won'\n",
        "    else:\n",
        "        return  'You lost!'\n",
        "\n",
        "    def is_win(player,opponent):\n",
        "\n",
        "        # return true if player wins\n",
        "         #r > s , s > p ,p > r\n",
        "        if (player == 'r' and opponent == 's') \\\n",
        "            or (player == 's' and opponent == 'p') \\\n",
        "            or (player == 'p' and opponent == 'r')\n",
        "             return True"
      ],
      "metadata": {
        "id": "GrUxJebgSe8m"
      },
      "execution_count": null,
      "outputs": []
    }
  ]
}