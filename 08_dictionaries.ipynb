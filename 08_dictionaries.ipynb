{
  "nbformat": 4,
  "nbformat_minor": 0,
  "metadata": {
    "colab": {
      "provenance": [],
      "authorship_tag": "ABX9TyNBm+JmMgvztWpOCy22+HsL",
      "include_colab_link": true
    },
    "kernelspec": {
      "name": "python3",
      "display_name": "Python 3"
    },
    "language_info": {
      "name": "python"
    }
  },
  "cells": [
    {
      "cell_type": "markdown",
      "metadata": {
        "id": "view-in-github",
        "colab_type": "text"
      },
      "source": [
        "<a href=\"https://colab.research.google.com/github/ShumailDilshadRao/assignment-4/blob/main/08_dictionaries.ipynb\" target=\"_parent\"><img src=\"https://colab.research.google.com/assets/colab-badge.svg\" alt=\"Open In Colab\"/></a>"
      ]
    },
    {
      "cell_type": "markdown",
      "source": [
        "# **count_nums**"
      ],
      "metadata": {
        "id": "59sD4V2IGDD0"
      }
    },
    {
      "cell_type": "code",
      "source": [
        "def get_user_numbers():\n",
        "    \"\"\"\n",
        "    Create an empty list.\n",
        "    Ask the user to input numbers and store them in a list.\n",
        "    Once they enter a blank line, break out of the loop and return the list.\n",
        "    \"\"\"\n",
        "    user_numbers = []\n",
        "    while True:\n",
        "        user_input = input(\"Enter a number: \")\n",
        "\n",
        "        # If the user enters a blank line, break out of the loop and stop asking for input\n",
        "        if user_input == \"\":\n",
        "            break\n",
        "\n",
        "        # convert the user input to an integer and add it to the list\n",
        "        num = int(user_input)\n",
        "        user_numbers.append(num)\n",
        "\n",
        "    return user_numbers\n",
        "\n",
        "def count_nums(num_lst):\n",
        "    \"\"\"\n",
        "    Create an empty dictionary.\n",
        "    Loop over the list of numbers.\n",
        "    If the number is not in the dictionary, add it as a key with a value of 1.\n",
        "    If the number is in the dictionary, increment its value by 1.\n",
        "    \"\"\"\n",
        "    num_dict = {}\n",
        "    for num in num_lst:\n",
        "        if num not in num_dict:\n",
        "            num_dict[num] = 1\n",
        "        else:\n",
        "            num_dict[num] += 1\n",
        "\n",
        "    return num_dict\n",
        "\n",
        "\n",
        "def print_counts(num_dict):\n",
        "    \"\"\"\n",
        "    Loop over the dictionary and print out each key and its value.\n",
        "    \"\"\"\n",
        "    for num in num_dict:\n",
        "        print(f\"{num}  appears  {num_dict[num]} times.\")\n",
        "\n",
        "\n",
        "def main():\n",
        "    \"\"\"\n",
        "    Ask the user to input numbers and store them in a list. Once they enter a blank line,\n",
        "    print out the number of times each number appeared in the list.\n",
        "    \"\"\"\n",
        "    user_numbers = get_user_numbers()\n",
        "    num_dict = count_nums(user_numbers)\n",
        "    print_counts(num_dict)\n",
        "\n",
        "\n",
        "# Python boilerplate.\n",
        "if __name__ == '__main__':\n",
        "    main()"
      ],
      "metadata": {
        "colab": {
          "base_uri": "https://localhost:8080/"
        },
        "id": "ZX8wziyUGHes",
        "outputId": "82a01adf-af63-436b-a021-955ec12f912c"
      },
      "execution_count": null,
      "outputs": [
        {
          "output_type": "stream",
          "name": "stdout",
          "text": [
            "Enter a number: 7\n",
            "Enter a number: 8\n",
            "Enter a number: 9\n",
            "Enter a number: 34\n",
            "Enter a number: 66\n",
            "Enter a number: 77\n",
            "Enter a number: 88\n",
            "Enter a number: \n",
            "7  appears  1 times.\n",
            "8  appears  1 times.\n",
            "9  appears  1 times.\n",
            "34  appears  1 times.\n",
            "66  appears  1 times.\n",
            "77  appears  1 times.\n",
            "88  appears  1 times.\n"
          ]
        }
      ]
    },
    {
      "cell_type": "markdown",
      "source": [
        "# **phonebook**"
      ],
      "metadata": {
        "id": "BSLNwGnWGtpJ"
      }
    },
    {
      "cell_type": "code",
      "source": [
        "def read_phone_numbers():\n",
        "    \"\"\"\n",
        "    Ask the user for names/numbers to story in a phonebook (dictionary).\n",
        "    Returns the phonebook.\n",
        "    \"\"\"\n",
        "    phonebook = {}                   # Create empty phonebook\n",
        "\n",
        "    while True:\n",
        "        name = input(\"Name: \")\n",
        "        if name == \"\":\n",
        "            break\n",
        "        number = input(\"Number: \")\n",
        "        phonebook[name] = number\n",
        "\n",
        "    return phonebook\n",
        "\n",
        "# Input a jay ga\n",
        "def print_phonebook(phonebook):\n",
        "    \"\"\"\n",
        "    Prints out all the names/numbers in the phonebook.\n",
        "    \"\"\"\n",
        "    for name in phonebook:\n",
        "        print(f\"{name}  ->  {phonebook[name]}\")\n",
        "\n",
        "\n",
        "def lookup_numbers(phonebook):\n",
        "    \"\"\"\n",
        "    Allow the user to lookup phone numbers in the phonebook\n",
        "    by looking up the number associated with a name.\n",
        "    \"\"\"\n",
        "    while True:\n",
        "        name = input(\"Enter name to lookup: \")\n",
        "        if name == \"\":\n",
        "            break\n",
        "        if name not in phonebook:\n",
        "            print(name + \" is not in the phonebook\")\n",
        "        else:\n",
        "            print(phonebook[name])\n",
        "\n",
        "\n",
        "def main():\n",
        "    phonebook = read_phone_numbers()\n",
        "    print_phonebook(phonebook)\n",
        "    lookup_numbers(phonebook)\n",
        "\n",
        "\n",
        "# Python boilerplate.\n",
        "if __name__ == '__main__':\n",
        "    main()"
      ],
      "metadata": {
        "colab": {
          "base_uri": "https://localhost:8080/"
        },
        "id": "6A1sVBsbG26_",
        "outputId": "85c62a08-92b8-4a7b-fa7f-60b3d0633da5"
      },
      "execution_count": null,
      "outputs": [
        {
          "name": "stdout",
          "output_type": "stream",
          "text": [
            "Name: shumaila\n",
            "Number: 0311 0214380\n",
            "Name: lubna\n",
            "Number: 03156359528\n",
            "Name: \n",
            "shumaila  ->  0311 0214380\n",
            "lubna  ->  03156359528\n",
            "Enter name to lookup: shumaila\n",
            "0311 0214380\n",
            "Enter name to lookup: lubna\n",
            "03156359528\n",
            "Enter name to lookup: \n"
          ]
        }
      ]
    },
    {
      "cell_type": "markdown",
      "source": [
        "# **pop_up_shop**"
      ],
      "metadata": {
        "id": "Mzh8xK3HHb8j"
      }
    },
    {
      "cell_type": "code",
      "source": [
        "def main():\n",
        "    fruits = {'apple': 1.5, 'durian': 50, 'jackfruit': 80, 'kiwi': 1, 'rambutan': 1.5, 'mango': 5}\n",
        "\n",
        "    total_cost = 0\n",
        "    for fruit_name in fruits:\n",
        "        price = fruits[fruit_name]\n",
        "        amount_bought = int(input(f\"How many ({ fruit_name }) do you want to buy?:____ \"))\n",
        "        total_cost += (price * amount_bought)\n",
        "\n",
        "    print(f\"Your total cost is $ {total_cost}..\")\n",
        "\n",
        "\n",
        "# There is no need to edit code beyond this point\n",
        "\n",
        "if __name__ == '__main__':\n",
        "    main()"
      ],
      "metadata": {
        "colab": {
          "base_uri": "https://localhost:8080/"
        },
        "id": "zvEqUDO_Hjnq",
        "outputId": "ed149498-f9f0-4da9-c3b5-dfc9ec9aed80"
      },
      "execution_count": null,
      "outputs": [
        {
          "output_type": "stream",
          "name": "stdout",
          "text": [
            "How many (apple) do you want to buy?:____ 7\n",
            "How many (durian) do you want to buy?:____ 4\n",
            "How many (jackfruit) do you want to buy?:____ 3\n",
            "How many (kiwi) do you want to buy?:____ 9\n",
            "How many (rambutan) do you want to buy?:____ 6\n",
            "How many (mango) do you want to buy?:____ 12\n",
            "Your total cost is $ 528.5..\n"
          ]
        }
      ]
    },
    {
      "cell_type": "markdown",
      "source": [
        "# **powerful_passwords**"
      ],
      "metadata": {
        "id": "Dmod_rWlHy1Q"
      }
    },
    {
      "cell_type": "code",
      "source": [
        "from hashlib import sha256\n",
        "\n",
        "def login(email, stored_logins, password_to_check):\n",
        "    \"\"\"\n",
        "    Returns True if the hash of the password we are checking matches the one in stored_logins\n",
        "    for a specific email. Otherwise, returns False.\n",
        "\n",
        "    email: the email we are checking the password for\n",
        "    stored_logins: a dictionary pointing from an email to its hashed password\n",
        "    password_to_check: a password we want to test alongside the email to login with\n",
        "    \"\"\"\n",
        "\n",
        "    if stored_logins[email] == hash_password(password_to_check):\n",
        "        return True\n",
        "    else:\n",
        "        return False\n",
        "\n",
        "# There is no need to edit code beyond this point\n",
        "\n",
        "def hash_password(password):\n",
        "    \"\"\"\n",
        "    Takes in a password and returns the SHA256 hashed value for that specific password.\n",
        "\n",
        "    Inputs:\n",
        "        password: the password we want\n",
        "\n",
        "    Outputs:\n",
        "        the hashed form of the input password\n",
        "    \"\"\"\n",
        "\n",
        "    return sha256(password.encode()).hexdigest()\n",
        "\n",
        "def main():\n",
        "    # stored_logins is a dictionary with emails as keys and hashed passwords as values\n",
        "    stored_logins = {\n",
        "        \"example@gmail.com\": \"5e884898da28047151d0e56f8dc6292773603d0d6aabbdd62a11ef721d1542d8\",\n",
        "        \"code_in_placer@cip.org\": \"973607a4ae7b4cf7d96a100b0fb07e8519cc4f70441d41214a9f811577bb06cc\",\n",
        "        \"student@stanford.edu\": \"882c6df720fd99f5eebb1581a1cf975625cea8a160283011c0b9512bb56c95fb\"\n",
        "    }\n",
        "\n",
        "    print(login(\"example@gmail.com\", stored_logins, \"word\"))\n",
        "    print(login(\"example@gmail.com\", stored_logins, \"password\"))\n",
        "\n",
        "    print(login(\"code_in_placer@cip.org\", stored_logins, \"Karel\"))\n",
        "    print(login(\"code_in_placer@cip.org\", stored_logins, \"karel\"))\n",
        "\n",
        "    print(login(\"student@stanford.edu\", stored_logins, \"password\"))\n",
        "    print(login(\"student@stanford.edu\", stored_logins, \"123!456?789\"))\n",
        "\n",
        "\n",
        "if __name__ == '__main__':\n",
        "    main()"
      ],
      "metadata": {
        "colab": {
          "base_uri": "https://localhost:8080/"
        },
        "id": "djAya5CxH6bi",
        "outputId": "c01e5c10-5c8d-48cc-de69-84e2179f75ec"
      },
      "execution_count": null,
      "outputs": [
        {
          "output_type": "stream",
          "name": "stdout",
          "text": [
            "False\n",
            "True\n",
            "False\n",
            "True\n",
            "False\n",
            "True\n"
          ]
        }
      ]
    }
  ]
}