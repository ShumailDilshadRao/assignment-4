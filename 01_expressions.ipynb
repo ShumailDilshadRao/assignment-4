{
  "nbformat": 4,
  "nbformat_minor": 0,
  "metadata": {
    "colab": {
      "provenance": [],
      "authorship_tag": "ABX9TyMi4bugzESf7n77avW8k5TT",
      "include_colab_link": true
    },
    "kernelspec": {
      "name": "python3",
      "display_name": "Python 3"
    },
    "language_info": {
      "name": "python"
    }
  },
  "cells": [
    {
      "cell_type": "markdown",
      "metadata": {
        "id": "view-in-github",
        "colab_type": "text"
      },
      "source": [
        "<a href=\"https://colab.research.google.com/github/ShumailDilshadRao/assignment-4/blob/main/01_expressions.ipynb\" target=\"_parent\"><img src=\"https://colab.research.google.com/assets/colab-badge.svg\" alt=\"Open In Colab\"/></a>"
      ]
    },
    {
      "cell_type": "code",
      "execution_count": null,
      "metadata": {
        "id": "X1WeMvsNhwri"
      },
      "outputs": [],
      "source": []
    },
    {
      "cell_type": "markdown",
      "source": [
        "# **01_expressions( dicesimulator)**"
      ],
      "metadata": {
        "id": "xhLMSJHAh62P"
      }
    },
    {
      "cell_type": "code",
      "source": [
        "\"\"\"\n",
        "Program: dicesimulator\n",
        "----------------------\n",
        "Simulate rolling two dice, three times.  Prints\n",
        "the results of each die roll.  This program is used\n",
        "to show how variable scope works.\n",
        "\"\"\"\n",
        "\n",
        "# Import the random library which lets us simulate random things like dice!\n",
        "import random\n",
        "\n",
        "# Number of sides on each die to roll\n",
        "NUM_SIDES = 6\n",
        "\n",
        "def roll_dice():\n",
        "    \"\"\"\n",
        "    Simulates rolling two dice and prints their total\n",
        "    \"\"\"\n",
        "    dice1: int = random.randint(1, NUM_SIDES)\n",
        "    dice2: int = random.randint(1, NUM_SIDES)\n",
        "    total: int = dice1 + dice2\n",
        "    print(\"Total of two dice:\", total)\n",
        "\n",
        "def main():\n",
        "    dice1: int = 10\n",
        "    print(\"dice1 in main() starts as: \" + str(dice1))\n",
        "    roll_dice()\n",
        "    roll_dice()\n",
        "    roll_dice()\n",
        "    print(\"dice1 in main() is: \" + str(dice1))\n",
        "\n",
        "# This provided line is required at the end of a Python file\n",
        "# to call the main() function.\n",
        "if __name__ == '__main__':\n",
        "    main()"
      ],
      "metadata": {
        "colab": {
          "base_uri": "https://localhost:8080/"
        },
        "id": "bWvfIP9QiS1Z",
        "outputId": "6dbc4f43-eeab-4fa5-dd25-a5394550a65e"
      },
      "execution_count": null,
      "outputs": [
        {
          "output_type": "stream",
          "name": "stdout",
          "text": [
            "dice1 in main() starts as: 10\n",
            "Total of two dice: 8\n",
            "Total of two dice: 6\n",
            "Total of two dice: 5\n",
            "dice1 in main() is: 10\n"
          ]
        }
      ]
    },
    {
      "cell_type": "markdown",
      "source": [
        "#  e=mc2"
      ],
      "metadata": {
        "id": "l004XmCaijiZ"
      }
    },
    {
      "cell_type": "code",
      "source": [
        "#type: ignore\n",
        "C: int = 299792458  # The speed of light in m/s\n",
        "mass_in_kg: int = 100\n",
        "def main():\n",
        "    mass_in_kg: float = float(input(\"Enter kilos of mass: \"))\n",
        "\n",
        "    # Calculate energy\n",
        "    # equivalently energy = mass * (C ** 2)\n",
        "    # using the ** operator to raise C to the power of 2\n",
        "    energy_in_joules: float = mass_in_kg * (C ** 2)\n",
        "\n",
        "    # Display work to the user\n",
        "    print(\"e = m * C^2...\")\n",
        "    print(\"m = \" + str(mass_in_kg) + \" kg\")\n",
        "    print(\"C = \" + str(C) + \" m/s\")\n",
        "\n",
        "    print(str(energy_in_joules) + \" joules of energy!\")\n",
        "# There is no need to edit code beyond this point\n",
        "\n",
        "if __name__ == '__main__':\n",
        "    main()"
      ],
      "metadata": {
        "colab": {
          "base_uri": "https://localhost:8080/"
        },
        "id": "hETSCQQli9kP",
        "outputId": "09b76bda-45a8-4b41-e569-422b3df8d973"
      },
      "execution_count": null,
      "outputs": [
        {
          "output_type": "stream",
          "name": "stdout",
          "text": [
            "Enter kilos of mass: 5\n",
            "e = m * C^2...\n",
            "m = 5.0 kg\n",
            "C = 299792458 m/s\n",
            "4.493775893684088e+17 joules of energy!\n"
          ]
        }
      ]
    },
    {
      "cell_type": "markdown",
      "source": [
        "#  **feet_to_inches**"
      ],
      "metadata": {
        "id": "9lxsXHbDjDfZ"
      }
    },
    {
      "cell_type": "code",
      "source": [
        "\"\"\"\n",
        "An example program with constants\n",
        "\"\"\"\n",
        "\n",
        "INCHES_IN_FOOT: int = 12  # Conversion factor. There are 12 inches for 1 foot.\n",
        "\n",
        "def main():\n",
        "    feet: float = float(input(\"Enter number of feet: \"))  # Get the number of feet, make sure to cast it to a float!\n",
        "    inches: float = feet * INCHES_IN_FOOT  # Perform the conversion\n",
        "    print(\"That is\", inches, \"inches!!!!!\")\n",
        "\n",
        "\n",
        "# This provided line is required at the end of a Python file\n",
        "# to call the main() function.\n",
        "if __name__ == '__main__':\n",
        "    main()"
      ],
      "metadata": {
        "colab": {
          "base_uri": "https://localhost:8080/"
        },
        "id": "dnyYqufDjWP2",
        "outputId": "42b0f03d-a016-4ec4-9e63-dacdb09ee0d4"
      },
      "execution_count": null,
      "outputs": [
        {
          "output_type": "stream",
          "name": "stdout",
          "text": [
            "Enter number of feet: 5\n",
            "That is 60.0 inches!!!!!\n"
          ]
        }
      ]
    },
    {
      "cell_type": "markdown",
      "source": [
        "##  **pythagorean_theorem**"
      ],
      "metadata": {
        "id": "ntqVqha3joBt"
      }
    },
    {
      "cell_type": "code",
      "source": [
        "import math    # Import the math library so we can use the sqrt function\n",
        "def main():\n",
        "     # Get the two side lengths from the user and cast them to be numbers\n",
        "    ab:float=float(input(\"Enter the length of AB.....\"))\n",
        "    ac:float=float(input(\"Enter the length of AC.....\"))\n",
        "\n",
        "    # Calculate the hypotenuse using the two sides and print it out\n",
        "    bc:float=math.sqrt(ab ** 2 + ac ** 2)\n",
        "    print(f\"The length of BC (the hypotenuse) is: {bc}\")\n",
        "\n",
        "    # There is no need to edit code beyond this point\n",
        "if __name__ == '__main__':\n",
        "    main()\n"
      ],
      "metadata": {
        "colab": {
          "base_uri": "https://localhost:8080/"
        },
        "id": "7XTP9xrhjzFh",
        "outputId": "ed1fad5a-e226-41ca-f32d-6893ac949564"
      },
      "execution_count": null,
      "outputs": [
        {
          "output_type": "stream",
          "name": "stdout",
          "text": [
            "Enter the length of AB.....56.2\n",
            "Enter the length of AC.....23.0\n",
            "The length of BC (the hypotenuse) is: 60.72429497326421\n"
          ]
        }
      ]
    },
    {
      "cell_type": "markdown",
      "source": [
        "# **remainder_division**"
      ],
      "metadata": {
        "id": "3APv7e5mkHGM"
      }
    },
    {
      "cell_type": "code",
      "source": [
        "def main():\n",
        "    # Get the numbers we want to divide\n",
        "    dividend: int = int(input(\"Please enter an integer to be divided:_____ \"))\n",
        "    divisor: int = int(input(\"Please enter an integer to be divided:_____ \"))\n",
        "\n",
        "    quotient :int = dividend // divisor    # Divide with no remainder/decimals (integer division)\n",
        "    remainder : int = dividend % divisor  # Get the remainder of the division (modulo)\n",
        "\n",
        "    print(f\"The result of this division is {quotient} with a remainder of {remainder}\")\n",
        "if __name__ == '__main__':\n",
        "        main()"
      ],
      "metadata": {
        "colab": {
          "base_uri": "https://localhost:8080/"
        },
        "id": "BGOVSOHtkLq4",
        "outputId": "66bffc3b-cffc-43d8-80b4-9833409c7dc3"
      },
      "execution_count": null,
      "outputs": [
        {
          "output_type": "stream",
          "name": "stdout",
          "text": [
            "Please enter an integer to be divided:_____ 6\n",
            "Please enter an integer to be divided:_____ 4\n",
            "The result of this division is 1 with a remainder of 2\n"
          ]
        }
      ]
    },
    {
      "cell_type": "markdown",
      "source": [
        "# **rolldice**"
      ],
      "metadata": {
        "id": "0PPYgl9ukqKd"
      }
    },
    {
      "cell_type": "code",
      "source": [
        "import random\n",
        "NUM_SIDES = 6\n",
        "def main():\n",
        "    random.seed(1)\n",
        "    dice1 :int = random.randint(1,NUM_SIDES)\n",
        "    dice2 :int = random.randint(1,NUM_SIDES)\n",
        "    total : int =   dice1 +   dice2\n",
        "\n",
        "      # Print out the results\n",
        "    print(\"Dice have\" ,NUM_SIDES,\"sides each.   \")\n",
        "    print(f\"FIRST DICE:__ {dice1}\")\n",
        "    print(f\"SECOND DICE:__ {dice2}\")\n",
        "\n",
        "    print(f\"Total of two dice {total}\")\n",
        "\n",
        "if __name__ == '__main__':\n",
        "        main()"
      ],
      "metadata": {
        "colab": {
          "base_uri": "https://localhost:8080/"
        },
        "id": "ilYn5OhUkubr",
        "outputId": "72621454-c812-4a2f-ea36-4d5f0d786544"
      },
      "execution_count": null,
      "outputs": [
        {
          "output_type": "stream",
          "name": "stdout",
          "text": [
            "Dice have 6 sides each.   \n",
            "FIRST DICE:__ 2\n",
            "SECOND DICE:__ 5\n",
            "Total of two dice 7\n"
          ]
        }
      ]
    },
    {
      "cell_type": "markdown",
      "source": [
        "# **seconds_in_year**"
      ],
      "metadata": {
        "id": "l-zDEH9nlRJo"
      }
    },
    {
      "cell_type": "code",
      "source": [
        " # Useful constants to help make the math easier and cleaner!\n",
        "DAYS_PER_YEAR :int = 365\n",
        "HOURS_PER_DAY :int = 24\n",
        "MINUTES_PER_HOUR :int = 60\n",
        "SECONDS_PER_MINUTES :int = 60\n",
        "WEEK_PER_DAY :int = 7\n",
        "def main():\n",
        "# We can get the number of seconds per year by multiplying the handy constants above!\n",
        "   # print(f\" There are\n",
        "   # {DAYS_PER_YEAR} *\n",
        "   # {WEEK_PER_DAY} *\n",
        "   # {HOURS_PER_DAY} *\n",
        "   # {MINUTES_PER_HOUR} *\n",
        "   # {SECONDS_PER_MINUTES} *\n",
        "   # seconds in a week.\")\n",
        "  print(\"There are \" + str(DAYS_PER_YEAR * HOURS_PER_DAY * MINUTES_PER_HOUR * SECONDS_PER_MINUTES) + \" seconds in a year!\")\n",
        "if __name__ == '__main__':\n",
        "    main()\n",
        "\n",
        "    # Useful constants to help make the math easier and cleaner!\n",
        "#DAYS_PER_YEAR: int = 365\n",
        "#HOURS_PER_DAY: int = 24\n",
        "#MIN_PER_HOUR: int = 60\n",
        "#SEC_PER_MIN: int = 60\n",
        "#\n",
        "#def main():\n",
        "    # We can get the number of seconds per year by multiplying the handy constants above!\n",
        "    #print(\"There are \" + str(DAYS_PER_YEAR * HOURS_PER_DAY * MIN_PER_HOUR * SEC_PER_MIN) + \" seconds in a year!\")\n",
        "# There is no need to edit code beyond this point"
      ],
      "metadata": {
        "colab": {
          "base_uri": "https://localhost:8080/"
        },
        "id": "8-Iy3F2GlWkx",
        "outputId": "f3e5e71c-2ebf-401d-ee67-f9ce35ea54e0"
      },
      "execution_count": null,
      "outputs": [
        {
          "output_type": "stream",
          "name": "stdout",
          "text": [
            "There are 31536000 seconds in a year!\n"
          ]
        }
      ]
    },
    {
      "cell_type": "markdown",
      "source": [
        "# **tiny_mad_lib**"
      ],
      "metadata": {
        "id": "2MhTU2wElwno"
      }
    },
    {
      "cell_type": "code",
      "source": [
        "          # Ek chota (adjective) bacha (noun) khushi se nacha (verb)।\n",
        "SENTENCE_START = \"Panaversity is fun. I learned to program and used Python to make my \"  # Corrected this line\n",
        "\n",
        "def main():\n",
        "    # Get the three inputs from the user to make the adlib\n",
        "    adjective = input(\"Please type an adjective and press enter: \")\n",
        "    noun = input(\"Please type a noun and press enter: \")\n",
        "    verb = input(\"Please type a verb and press enter: \")\n",
        "\n",
        "    # Join the inputs together with the sentence starter\n",
        "    print(SENTENCE_START + adjective + \" \" + noun + \" \" + verb + \"!\")\n",
        "\n",
        "# There is no need to edit code beyond this point\n",
        "if __name__ == '__main__':\n",
        "    main()"
      ],
      "metadata": {
        "colab": {
          "base_uri": "https://localhost:8080/"
        },
        "id": "Ozmel4z2l1JH",
        "outputId": "7216c8be-b493-495f-a273-6685f92120fa"
      },
      "execution_count": null,
      "outputs": [
        {
          "output_type": "stream",
          "name": "stdout",
          "text": [
            "Please type an adjective and press enter: charm\n",
            "Please type a noun and press enter: i\n",
            "Please type a verb and press enter: want\n",
            "Panaversity is fun. I learned to program and used Python to make my charm i want!\n"
          ]
        }
      ]
    }
  ]
}