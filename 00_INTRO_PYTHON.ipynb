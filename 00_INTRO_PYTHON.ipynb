{
  "nbformat": 4,
  "nbformat_minor": 0,
  "metadata": {
    "colab": {
      "provenance": [],
      "authorship_tag": "ABX9TyNzCr/O41V7Z/6F+BLt8zo9",
      "include_colab_link": true
    },
    "kernelspec": {
      "name": "python3",
      "display_name": "Python 3"
    },
    "language_info": {
      "name": "python"
    }
  },
  "cells": [
    {
      "cell_type": "markdown",
      "metadata": {
        "id": "view-in-github",
        "colab_type": "text"
      },
      "source": [
        "<a href=\"https://colab.research.google.com/github/ShumailDilshadRao/assignment-4/blob/main/00_INTRO_PYTHON.ipynb\" target=\"_parent\"><img src=\"https://colab.research.google.com/assets/colab-badge.svg\" alt=\"Open In Colab\"/></a>"
      ]
    },
    {
      "cell_type": "markdown",
      "source": [
        "**00_INTRO_PYTHON**\n",
        "(Add Two Numbers)"
      ],
      "metadata": {
        "id": "93aKgOaDcBYC"
      }
    },
    {
      "cell_type": "code",
      "source": [
        " # Add Two Numbers\n",
        "def main():\n",
        "      try:\n",
        "         print(\"This programme add two numbers.....\")\n",
        "         num1 =input(\"Enter your first number...\")\n",
        "         print(type(num1))\n",
        "         num1 = int(num1)\n",
        "         print(type(num1))\n",
        "         num2 =input(\"Enter your second number...\")\n",
        "         print(type(num2))\n",
        "         num2  = int(num2)\n",
        "         print(type(num2))\n",
        "         total = num1 + num2\n",
        "         print(f' {num1} + {num2} = {total}')\n",
        "         print(\"The total is \" + str(total) + \"...\")\n",
        "      except ValueError:\n",
        "         print(\"Invalid Input! Please Enter only numbers.\")\n",
        "if __name__ == '__main__':\n",
        "    main()\n"
      ],
      "metadata": {
        "colab": {
          "base_uri": "https://localhost:8080/"
        },
        "id": "XLu5BXOhcFkW",
        "outputId": "ba61762e-9b84-4701-99b3-40278b91be9e"
      },
      "execution_count": null,
      "outputs": [
        {
          "output_type": "stream",
          "name": "stdout",
          "text": [
            "This programme add two numbers.....\n",
            "Enter your first number...5\n",
            "<class 'str'>\n",
            "<class 'int'>\n",
            "Enter your second number...8\n",
            "<class 'str'>\n",
            "<class 'int'>\n",
            " 5 + 8 = 13\n",
            "The total is 13...\n"
          ]
        }
      ]
    },
    {
      "cell_type": "markdown",
      "source": [
        "# **agreement_bot**"
      ],
      "metadata": {
        "id": "eWCsO8KEc_td"
      }
    },
    {
      "cell_type": "code",
      "source": [
        "def main(prompt):\n",
        "\n",
        "    return f\"My favorite animal is also {prompt} !\"\n",
        "\n",
        "user_input: str = (input(\"What's your favorite animal? \"))\n",
        "res = main(user_input)\n",
        "print(res)"
      ],
      "metadata": {
        "colab": {
          "base_uri": "https://localhost:8080/"
        },
        "id": "K-K-CT_YdOJj",
        "outputId": "6077bc4d-9581-49d3-d687-e4285199b959"
      },
      "execution_count": null,
      "outputs": [
        {
          "output_type": "stream",
          "name": "stdout",
          "text": [
            "What's your favorite animal? cow\n",
            "My favorite animal is also cow !\n"
          ]
        }
      ]
    },
    {
      "cell_type": "markdown",
      "source": [
        "# **fahrenheit_to_celsius**"
      ],
      "metadata": {
        "id": "61-YIK5KdqqL"
      }
    },
    {
      "cell_type": "code",
      "source": [
        "\n",
        "def main():\n",
        "    fahrenheit = int(input(\"Enter temperature in Fahrenheit:   \"))\n",
        "    celsius = (fahrenheit - 32) * 5.0 / 9.0\n",
        "    print(f\"Temperature {fahrenheit}F = {celsius}C\")\n",
        "main()"
      ],
      "metadata": {
        "colab": {
          "base_uri": "https://localhost:8080/"
        },
        "id": "S16c12ugd6oC",
        "outputId": "0e26bf58-b2fe-4f00-e55d-62ee13b8983c"
      },
      "execution_count": null,
      "outputs": [
        {
          "output_type": "stream",
          "name": "stdout",
          "text": [
            "Enter temperature in Fahrenheit:   32\n",
            "Temperature 32F = 0.0C\n"
          ]
        }
      ]
    },
    {
      "cell_type": "markdown",
      "source": [
        "# **how_old_are_they**"
      ],
      "metadata": {
        "id": "XKkmbc1weFrm"
      }
    },
    {
      "cell_type": "code",
      "source": [
        "def main():\n",
        "    anton : int = 21  # Anton's age is given as 21 years old\n",
        "    beth : int = 6 + anton  # Beth is 6 years older than Anton, so add 6 to Anton's age to get Beth's\n",
        "    chen : int = 20 + beth  # Chen is 20 years older than Beth, so add 20 to Beth's age to get Chen's\n",
        "    drew  : int= chen + anton  # Drew is as old as Chen's age plus Anton's age, so add them together\n",
        "    ethan : int = chen  # Ethan is the same age as Chen, so set Ethan's age equal to Chen's\n",
        "    print(f\" Anthon is {anton} years old\")\n",
        "    print(f\" Beth is {beth} years old\")\n",
        "    print(f\" Chen is {chen} years old\")\n",
        "    print(f\" Drew is {drew} years old\")\n",
        "    print(f\" Ethan is {ethan} years old\")\n",
        "main()"
      ],
      "metadata": {
        "colab": {
          "base_uri": "https://localhost:8080/"
        },
        "id": "YsuV5ZzseV3i",
        "outputId": "9cded30a-8db5-4fa4-c8c4-5695496dc2cd"
      },
      "execution_count": null,
      "outputs": [
        {
          "output_type": "stream",
          "name": "stdout",
          "text": [
            " Anthon is 21 years old\n",
            " Beth is 27 years old\n",
            " Chen is 47 years old\n",
            " Drew is 68 years old\n",
            " Ethan is 47 years old\n"
          ]
        }
      ]
    },
    {
      "cell_type": "markdown",
      "source": [
        "# **square_number**"
      ],
      "metadata": {
        "id": "5kOB1pfseebR"
      }
    },
    {
      "cell_type": "code",
      "source": [
        "def main():\n",
        "        num: float = float(input(\"Type a number to see its square: \")) # Make sure to cast the input to a float so we can do math with it!\n",
        "        square = num * num\n",
        "        print(f\"The square of {num} is {square}\") # num * num is equivalent to num ** 2. The ** operator raises something to a power!\n",
        "if __name__ == '__main__':\n",
        "     main()"
      ],
      "metadata": {
        "colab": {
          "base_uri": "https://localhost:8080/"
        },
        "id": "FQ1JNxrfepex",
        "outputId": "87e3e485-9c7b-49e6-8038-32d6676daa26"
      },
      "execution_count": null,
      "outputs": [
        {
          "output_type": "stream",
          "name": "stdout",
          "text": [
            "Type a number to see its square: 65\n",
            "The square of 65.0 is 4225.0\n"
          ]
        }
      ]
    },
    {
      "cell_type": "markdown",
      "source": [
        "# **triangle_perimeter**"
      ],
      "metadata": {
        "id": "I7xMBGece5pY"
      }
    },
    {
      "cell_type": "code",
      "source": [
        "def main():\n",
        "    side1 : float = float(input(\" What is the length of side 1? \"))\n",
        "    side2 : float = float(input(\" What is the length of side 2? \"))\n",
        "    side3 : float = float(input(\" What is the length of side 3? \"))\n",
        "\n",
        "    # Print out the perimeter (sum of the sides) of the triangle, make sure to cast it to a str when concatenating!\n",
        "    print(f\"The perimeter of the triangle is  {side1 + side2 + side3}\")\n",
        "if __name__ ==  '__main__':\n",
        "    main()"
      ],
      "metadata": {
        "colab": {
          "base_uri": "https://localhost:8080/"
        },
        "id": "M6BlZMBUfSbG",
        "outputId": "af1e3bce-2feb-4b8f-e9a7-e954c15d1b8f"
      },
      "execution_count": null,
      "outputs": [
        {
          "output_type": "stream",
          "name": "stdout",
          "text": [
            " What is the length of side 1? 5\n",
            " What is the length of side 2? 8\n",
            " What is the length of side 3? 12\n",
            "The perimeter of the triangle is  25.0\n"
          ]
        }
      ]
    }
  ]
}