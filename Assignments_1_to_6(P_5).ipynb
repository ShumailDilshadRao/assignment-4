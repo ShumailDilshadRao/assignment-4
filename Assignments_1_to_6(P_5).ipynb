{
  "nbformat": 4,
  "nbformat_minor": 0,
  "metadata": {
    "colab": {
      "provenance": [],
      "authorship_tag": "ABX9TyMdEaJGnrWubB/obd/0vbI+",
      "include_colab_link": true
    },
    "kernelspec": {
      "name": "python3",
      "display_name": "Python 3"
    },
    "language_info": {
      "name": "python"
    }
  },
  "cells": [
    {
      "cell_type": "markdown",
      "metadata": {
        "id": "view-in-github",
        "colab_type": "text"
      },
      "source": [
        "<a href=\"https://colab.research.google.com/github/ShumailDilshadRao/assignment-4/blob/main/Assignments_1_to_6(P_5).ipynb\" target=\"_parent\"><img src=\"https://colab.research.google.com/assets/colab-badge.svg\" alt=\"Open In Colab\"/></a>"
      ]
    },
    {
      "cell_type": "code",
      "execution_count": null,
      "metadata": {
        "id": "SdJwxXX4THGb"
      },
      "outputs": [],
      "source": []
    },
    {
      "cell_type": "markdown",
      "source": [
        "# **Project 5 Hangman Python Project**"
      ],
      "metadata": {
        "id": "69kydlBbTSz1"
      }
    },
    {
      "cell_type": "markdown",
      "source": [
        "# **hangman**"
      ],
      "metadata": {
        "id": "10nQM6rSTjxI"
      }
    },
    {
      "cell_type": "code",
      "source": [
        "import random\n",
        "from words import words\n",
        "import string\n",
        "\n",
        "def get_valid_word(words):\n",
        "    word = random.choice(words).upper()  # Randomly chooses a word and converts to uppercase\n",
        "    while '_' in word or ' ' in word:  # Fix the syntax issue\n",
        "        word = random.choice(words).upper()\n",
        "    return word  # Move return outside loop\n",
        "\n",
        "def hangman():\n",
        "    word = get_valid_word(words)  # Get a random word\n",
        "    word_letters = set(word)  # Letters in the word\n",
        "    alphabet = set(string.ascii_uppercase)  # English alphabets\n",
        "    used_letters = set()  # Store letters guessed by the user\n",
        "\n",
        "    lives = 6  # Number of tries before the game ends\n",
        "\n",
        "    # Main game loop\n",
        "    while len(word_letters) > 0 and lives > 0:\n",
        "        # Show used letters\n",
        "        print(f\"\\nYou have {lives} lives left and have used these letters: {' '.join(used_letters)}\")\n",
        "\n",
        "        # Show current guessed word with dashes\n",
        "        word_list = [letter if letter in used_letters else '-' for letter in word]\n",
        "        print(\"Current word: \", ' '.join(word_list))\n",
        "\n",
        "        # Get user input\n",
        "        used_letter = input(\"Guess a letter: \").upper()\n",
        "\n",
        "        if used_letter in alphabet - used_letters:  # If valid and not guessed before\n",
        "            used_letters.add(used_letter)  # Add to guessed letters\n",
        "\n",
        "            if used_letter in word_letters:  # If correct guess\n",
        "                word_letters.remove(used_letter)\n",
        "                print(\"Good guess!\")\n",
        "            else:  # Incorrect guess\n",
        "                lives -= 1\n",
        "                print(\"Wrong guess! Try again.\")\n",
        "\n",
        "        elif used_letter in used_letters:  # If already guessed\n",
        "            print(\"You have already used that letter. Try again.\")\n",
        "\n",
        "        else:  # Invalid input\n",
        "            print(\"Invalid character. Please enter a valid letter.\")\n",
        "\n",
        "    # Game over message\n",
        "    if lives == 0:\n",
        "        print(f\"\\nYou lost! The word was {word}.\")\n",
        "    else:\n",
        "        print(f\"\\nCongratulations! You guessed the word {word} correctly!\")\n",
        "\n",
        "# Start the game\n",
        "hangman()"
      ],
      "metadata": {
        "id": "Dw4shjsfT7gj"
      },
      "execution_count": null,
      "outputs": []
    },
    {
      "cell_type": "markdown",
      "source": [
        "# **words**"
      ],
      "metadata": {
        "id": "iLMBD-0OUEdH"
      }
    },
    {
      "cell_type": "code",
      "source": [
        "words = [\"aback\", \"abaft\", \"abandoned\",\"aberrant\",\"abhorrent\",\"abiding\",\"ablaze\",\"abnormal\",]"
      ],
      "metadata": {
        "id": "ipNdXLuSUHhv"
      },
      "execution_count": null,
      "outputs": []
    }
  ]
}