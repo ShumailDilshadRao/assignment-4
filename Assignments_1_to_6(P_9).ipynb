{
  "nbformat": 4,
  "nbformat_minor": 0,
  "metadata": {
    "colab": {
      "provenance": [],
      "authorship_tag": "ABX9TyNAdYXXFhp9DWyw/aUQJAla",
      "include_colab_link": true
    },
    "kernelspec": {
      "name": "python3",
      "display_name": "Python 3"
    },
    "language_info": {
      "name": "python"
    }
  },
  "cells": [
    {
      "cell_type": "markdown",
      "metadata": {
        "id": "view-in-github",
        "colab_type": "text"
      },
      "source": [
        "<a href=\"https://colab.research.google.com/github/ShumailDilshadRao/assignment-4/blob/main/Assignments_1_to_6(P_9).ipynb\" target=\"_parent\"><img src=\"https://colab.research.google.com/assets/colab-badge.svg\" alt=\"Open In Colab\"/></a>"
      ]
    },
    {
      "cell_type": "markdown",
      "source": [
        "# **Project 9 Build a Python Website in 15 Minutes With Streamlit**"
      ],
      "metadata": {
        "id": "ZrLqa1prUZNE"
      }
    },
    {
      "cell_type": "code",
      "source": [
        "import streamlit as st\n",
        "import pandas as pd\n",
        "import matplotlib.pyplot as pyplot\n",
        "\n",
        "st.title(\"Simple data\")\n",
        "upload_file = st.file_uploader(\"choose a CSV file\",type=\"csv\")\n",
        "\n",
        "if upload_file is not None:\n",
        "    st.write(\"file uploaded\")\n",
        "    df=  pd.read_csv(upload_file)\n",
        "\n",
        "    st.subheader(\"data preview\")\n",
        "    st.write(df.head())\n",
        "\n",
        "    st.subheader(\"Data summary\")\n",
        "    st.write(df.describe())\n",
        "\n",
        "    st.subheader(\"filter data\")\n",
        "    col = df.columns.tolist()\n",
        "    select_column = st.selectbox(\"sleect column to filter\",col)\n",
        "\n",
        "    unique_value =df[select_column].unique()\n",
        "\n",
        "    select_value = st.selectbox(\"sleect value\",unique_value)\n",
        "\n",
        "    fliter_df = df[df[select_column] == select_value]\n",
        "\n",
        "    st.write(fliter_df)\n",
        "\n",
        "    st.subheader(\"plot data\")\n",
        "    x_col = st.selectbox(\"select x-axia col\",col)\n",
        "    y_col = st.selectbox(\"select y-axia col\",col)\n",
        "\n",
        "    if st.button(\"Generate plot\"):\n",
        "        st.line_chart(fliter_df.set_index(x_col)[y_col])\n",
        "else:\n",
        "    st.write(\"wating for file to upload\")"
      ],
      "metadata": {
        "id": "Vw_4Wi0cUdFw"
      },
      "execution_count": null,
      "outputs": []
    },
    {
      "cell_type": "markdown",
      "source": [
        "# **main**"
      ],
      "metadata": {
        "id": "GoWh7bJnUt-w"
      }
    },
    {
      "cell_type": "code",
      "source": [
        "def main():\n",
        "    print(\"Hello from project-9-build-a-python-website-in-15-minutes-with-streamlit!\")\n",
        "\n",
        "\n",
        "if __name__ == \"__main__\":\n",
        "    main()"
      ],
      "metadata": {
        "id": "BZpr115_UxhQ"
      },
      "execution_count": null,
      "outputs": []
    }
  ]
}