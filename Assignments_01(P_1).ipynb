{
  "nbformat": 4,
  "nbformat_minor": 0,
  "metadata": {
    "colab": {
      "provenance": [],
      "authorship_tag": "ABX9TyNjst1fUqGgNO9mMtXsXbxG",
      "include_colab_link": true
    },
    "kernelspec": {
      "name": "python3",
      "display_name": "Python 3"
    },
    "language_info": {
      "name": "python"
    }
  },
  "cells": [
    {
      "cell_type": "markdown",
      "metadata": {
        "id": "view-in-github",
        "colab_type": "text"
      },
      "source": [
        "<a href=\"https://colab.research.google.com/github/ShumailDilshadRao/assignment-4/blob/main/Assignments_01(P_1).ipynb\" target=\"_parent\"><img src=\"https://colab.research.google.com/assets/colab-badge.svg\" alt=\"Open In Colab\"/></a>"
      ]
    },
    {
      "cell_type": "markdown",
      "source": [
        "# **01_basics**"
      ],
      "metadata": {
        "id": "XfpQKcZ1kTTX"
      }
    },
    {
      "cell_type": "markdown",
      "source": [
        "# **00_joke_bot**"
      ],
      "metadata": {
        "id": "quQ6nUHFkgPi"
      }
    },
    {
      "cell_type": "code",
      "source": [
        "PROMPT = \"what they want.\"\n",
        "JOKE = \"Why did the scarecrow win an award? Because he was outstanding in his field! 😆\"\n",
        "SORRY = \"Sorry, I only tell jokes\"\n",
        "\n",
        "def main():\n",
        "\n",
        "    user_input =input(\"Enter something.......\").strip().lower()  # Ye poora input read karega\n",
        "    if \"joke\" in user_input:\n",
        "        print(JOKE)\n",
        "    else:\n",
        "        print(SORRY)\n",
        "\n",
        "if __name__ == '__main__':\n",
        "    main()"
      ],
      "metadata": {
        "id": "pgf0X9I4kpg_"
      },
      "execution_count": null,
      "outputs": []
    },
    {
      "cell_type": "markdown",
      "source": [
        "# **02_liftoff**"
      ],
      "metadata": {
        "id": "DsZReADClbyx"
      }
    },
    {
      "cell_type": "code",
      "source": [
        "def main():\n",
        "    spaceship =int(input(\"correctly........\"))\n",
        "    #1st method:\n",
        "    for i in range(10):  # 0 se 9 tak straight counting\n",
        "        print(i , end = '')  # Output ek hi line mein rahega\n",
        "    print(\"Liftoff!\")  # Aakhri message\n",
        "\n",
        "    #2nd method:\n",
        "    for i in range(10 , 0 , -1):  # 10 se 1 tak reverse counting\n",
        "        print(i)  # Output horizantal mein rahega\n",
        "    print(\"Liftoff!\")  # Aakhri message\n",
        "\n",
        "\n",
        "# This provided line is required at the end of\n",
        "# Python file to call the main() function.\n",
        "if __name__ == '__main__':\n",
        "    main()"
      ],
      "metadata": {
        "id": "ZQ-89uA_dcBT"
      },
      "execution_count": null,
      "outputs": []
    },
    {
      "cell_type": "markdown",
      "source": [
        "# **double_it**"
      ],
      "metadata": {
        "id": "84oNsaK5dmUX"
      }
    },
    {
      "cell_type": "code",
      "source": [
        "def main():\n",
        "   curr_value = int(input(\"Enter a number:..... \"))  # Define curr_value first\n",
        "\n",
        "   while curr_value < 400:  # Check condition\n",
        "    curr_value = curr_value * 2  # Double the value\n",
        "    print(curr_value)  # Print the result\n",
        "\n",
        "if __name__ == '__main__':\n",
        "     main()"
      ],
      "metadata": {
        "id": "cDlE3b6wdycJ"
      },
      "execution_count": null,
      "outputs": []
    },
    {
      "cell_type": "markdown",
      "source": [
        "# **guess_my_number**"
      ],
      "metadata": {
        "id": "d3yQ967Ed2jY"
      }
    },
    {
      "cell_type": "code",
      "source": [
        "import random\n",
        "\n",
        "def main():\n",
        "    secret_number = random.randint(1, 99)  # Generate a secret number\n",
        "    print(\"I am thinking of a number between 1 and 99...\")\n",
        "\n",
        "    guess = int(input(\"Please Enter a number: \"))\n",
        "\n",
        "    while guess != secret_number:\n",
        "        if guess < secret_number:\n",
        "            print(\"Your guess is too low\")\n",
        "        elif guess > secret_number:\n",
        "            print(\"Your guess is too high\")\n",
        "\n",
        "        print()  # Space for better readability\n",
        "        guess = int(input(\"Please Enter a new number: \"))  # Ask for input again\n",
        "\n",
        "    print(f\"Congrats! The number was: {secret_number}\")  # Corrected print statement\n",
        "\n",
        "if __name__ == \"__main__\":\n",
        "    main()"
      ],
      "metadata": {
        "id": "QUFhvB5Qd9bs"
      },
      "execution_count": null,
      "outputs": []
    },
    {
      "cell_type": "markdown",
      "source": [
        "# **random_numbers**"
      ],
      "metadata": {
        "id": "aRl3ZH8deEdq"
      }
    },
    {
      "cell_type": "code",
      "source": [
        "import random\n",
        "\n",
        "def main():\n",
        "    for _ in range(10):  # 10 baar loop chalega\n",
        "        print(random.randint(1, 100), end=\" \")  # Random number print karega ,random library + randint function ak range set ma integer return krta ha.isko random integer kahty hain.\n",
        "    print()  # Newline ke liye\n",
        "if __name__ == \"__main__\":\n",
        "    main()"
      ],
      "metadata": {
        "id": "EHhV37WSeN2Y"
      },
      "execution_count": null,
      "outputs": []
    }
  ]
}