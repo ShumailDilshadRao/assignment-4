{
  "nbformat": 4,
  "nbformat_minor": 0,
  "metadata": {
    "colab": {
      "provenance": [],
      "authorship_tag": "ABX9TyPcYelmE1CveRoRZaKPxdOo",
      "include_colab_link": true
    },
    "kernelspec": {
      "name": "python3",
      "display_name": "Python 3"
    },
    "language_info": {
      "name": "python"
    }
  },
  "cells": [
    {
      "cell_type": "markdown",
      "metadata": {
        "id": "view-in-github",
        "colab_type": "text"
      },
      "source": [
        "<a href=\"https://colab.research.google.com/github/ShumailDilshadRao/assignment-4/blob/main/Assignments_01(P_2).ipynb\" target=\"_parent\"><img src=\"https://colab.research.google.com/assets/colab-badge.svg\" alt=\"Open In Colab\"/></a>"
      ]
    },
    {
      "cell_type": "markdown",
      "source": [
        "# **02_intermediate**"
      ],
      "metadata": {
        "id": "XxZdLQomoe0h"
      }
    },
    {
      "cell_type": "markdown",
      "source": [
        "# **01-Control Flow for Console**"
      ],
      "metadata": {
        "id": "6EDrMCsdff-O"
      }
    },
    {
      "cell_type": "code",
      "source": [
        "import random\n",
        "\n",
        "\n",
        "NUM_ROUNDS = 5\n",
        "\n",
        "def main():\n",
        "    print(\"Welcome to the High-Low Game!\")\n",
        "    print('--------------------------------')\n",
        "\n",
        "    # Milestone 5: keep track of your score\n",
        "    your_score = 0\n",
        "\n",
        "    # Milestone 4: Play multiple rounds\n",
        "    for i in range(NUM_ROUNDS):\n",
        "        print(\"Round\", i + 1)\n",
        "    # Milestone 1: Generate the random numbers and print them out\n",
        "        computer_num = random.randint(1, 100)\n",
        "        your_num = random.randint(1, 100)\n",
        "        print(\"Your number is\", your_num)\n",
        "\n",
        "    # Milestone 2: Get user input for their choice\n",
        "        choice = input(\"Do you think your number is higher or lower than the computer's?: \")\n",
        "\n",
        "    # Extension 1: Make sure the player inputs a valid choice (higher or lower)\n",
        "        while choice != \"higher\" and choice != \"lower\":\n",
        "            choice = input(\"Please enter either higher or lower: \")\n",
        "\n",
        "    # Milestone 3: Map out all the ways to win the round\n",
        "        higher_and_correct = choice == \"higher\" and your_num > computer_num\n",
        "        lower_and_correct = choice == \"lower\" and your_num < computer_num\n",
        "\n",
        "        if higher_and_correct or lower_and_correct:\n",
        "            print(\"You were right! The computer's number was\", computer_num)\n",
        "    # Milestone 5: keep track of your score\n",
        "            your_score += 1\n",
        "        else:\n",
        "            print(\"Aww, that's incorrect. The computer's number was\", computer_num)\n",
        "\n",
        "    # Milestone 5: keep track of your score\n",
        "        print(\"Your score is now\", your_score)\n",
        "        print()\n",
        "\n",
        "    # Extension 2: Conditional ending messages based on performance\n",
        "    print(\"Your final score is\", your_score)\n",
        "\n",
        "    if your_score == NUM_ROUNDS:\n",
        "        print(\"Wow! You played perfectly!\")\n",
        "    elif your_score > NUM_ROUNDS // 2:\n",
        "        print(\"Good job, you played really well!\")\n",
        "    else:\n",
        "        print(\"Better luck next time!\")\n",
        "\n",
        "if __name_"
      ],
      "metadata": {
        "id": "T5XFz2rIpI3q"
      },
      "execution_count": null,
      "outputs": []
    },
    {
      "cell_type": "markdown",
      "source": [
        "# **02-Intro to Python**"
      ],
      "metadata": {
        "id": "4Hb0CvFEqiQq"
      }
    },
    {
      "cell_type": "markdown",
      "source": [
        "# **planetaryweight**"
      ],
      "metadata": {
        "id": "DRUZ9FizpSd1"
      }
    },
    {
      "cell_type": "code",
      "source": [
        "\n",
        "import random\n",
        "\n",
        "def main():\n",
        "    # Prompt the user for the name of a planet\n",
        "    planet = input(\"Enter a planet: \").capitalize()\n",
        "    earth_weight = float(input(\"Enter a weight on Earth: \"))\n",
        "    earth_weight = 0.378\n",
        "    # Define gravity constants\n",
        "    GRAVITY = {\n",
        "        \"Mercury\": 0.376,\n",
        "        \"Venus\": 0.889,\n",
        "        \"Earth\": 1.0,\n",
        "        \"Mars\": 0.378,\n",
        "        \"Jupiter\": 2.36,\n",
        "        \"Saturn\": 1.081,\n",
        "        \"Uranus\": 0.815,\n",
        "        \"Neptune\": 1.14,\n",
        "        \"Earth\": 1.0\n",
        "    }\n",
        "\n",
        "    # Check if planet exists\n",
        "    if planet in GRAVITY:\n",
        "        gravity_constant = GRAVITY[planet]\n",
        "    else:\n",
        "        print(\"Invalid planet name. Please enter a valid planet.\")\n",
        "        return\n",
        "\n",
        "    # Calculate the equivalent weight on the selected planet\n",
        "    planetary_weight = round(earth_weight * gravity_constant, 2)\n",
        "\n",
        "    # Print the result\n",
        "    print(f\"The equivalent weight on {planet} is: {planetary_weight} kg\")\n",
        "\n",
        "if __name__ == \"__main__\":\n",
        "    main()"
      ],
      "metadata": {
        "id": "bSkSTPAspVvM"
      },
      "execution_count": null,
      "outputs": []
    },
    {
      "cell_type": "markdown",
      "source": [
        "# **03-List and Dict**"
      ],
      "metadata": {
        "id": "72Gbl3xtfISX"
      }
    },
    {
      "cell_type": "markdown",
      "source": [
        "# **01-Index_game**"
      ],
      "metadata": {
        "id": "TikeFM1KrSSb"
      }
    },
    {
      "cell_type": "code",
      "source": [
        "import random\n",
        "\n",
        "def access_element(lst, index):\n",
        "    try:\n",
        "        return lst[index]\n",
        "    except IndexError:\n",
        "        return \"Index out of range.\"\n",
        "\n",
        "def modify_element(lst, index, new_value):\n",
        "    try:\n",
        "        lst[index] = new_value\n",
        "        return lst\n",
        "    except IndexError:\n",
        "        return \"Index out of range.\"\n",
        "\n",
        "def slice_list(lst, start, end):\n",
        "    try:\n",
        "        return lst[start:end]\n",
        "    except IndexError:\n",
        "        return \"Invalid index.\"\n",
        "\n",
        "def index_game():\n",
        "    lst = [1, 2, 3, 4, 5]  # Example list\n",
        "    print(\"Current list:\", lst)\n",
        "    print(\"Choose an operation: access, modify, slice\")\n",
        "    operation = input(\"Enter operation: \")\n",
        "\n",
        "    if operation == \"access\":\n",
        "        index = int(input(\"Enter index to access: \"))\n",
        "        print(access_element(lst, index))\n",
        "    elif operation == \"modify\":\n",
        "        index = int(input(\"Enter index to modify: \"))\n",
        "        new_value = input(\"Enter new value: \")\n",
        "        print(modify_element(lst, index, new_value))\n",
        "    elif operation == \"slice\":\n",
        "        start = int(input(\"Enter start index: \"))\n",
        "        end = int(input(\"Enter end index: \"))\n",
        "        print(slice_list(lst, start, end))\n",
        "    else:\n",
        "        print(\"Invalid operation.\")\n",
        "\n",
        "index_game()"
      ],
      "metadata": {
        "id": "F6TxQeeErXjO"
      },
      "execution_count": null,
      "outputs": []
    },
    {
      "cell_type": "markdown",
      "source": [
        "# **02-List _practice**"
      ],
      "metadata": {
        "id": "rzt9GttKrgrM"
      }
    },
    {
      "cell_type": "code",
      "source": [
        "import random\n",
        "\n",
        "def main():\n",
        " # Corrected list of fruits\n",
        "    fruit_lst = ['apple', 'banana', 'orange', 'grape', 'pineapple']\n",
        "\n",
        " # Print the length of the list\n",
        "    lst_length = len(fruit_lst)\n",
        "    print(f\"Length of the list: {lst_length}\")\n",
        "\n",
        " # Add 'mango' at the end of the list\n",
        "    fruit_lst.append('mango')\n",
        "\n",
        " # Print the updated list\n",
        "    print(\"Updated fruit list:\")\n",
        "    for fruit in fruit_lst:\n",
        "        print(fruit)\n",
        "\n",
        "if __name__ == '__main__':\n",
        "    main()"
      ],
      "metadata": {
        "colab": {
          "base_uri": "https://localhost:8080/"
        },
        "id": "4Qgs7gmkrp4E",
        "outputId": "758d0952-15df-4d1f-94bd-ff86438da1da"
      },
      "execution_count": null,
      "outputs": [
        {
          "output_type": "stream",
          "name": "stdout",
          "text": [
            "Length of the list: 5\n",
            "Updated fruit list:\n",
            "apple\n",
            "banana\n",
            "orange\n",
            "grape\n",
            "pineapple\n",
            "mango\n"
          ]
        }
      ]
    }
  ]
}