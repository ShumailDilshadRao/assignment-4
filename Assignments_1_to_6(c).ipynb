{
  "nbformat": 4,
  "nbformat_minor": 0,
  "metadata": {
    "colab": {
      "provenance": [],
      "authorship_tag": "ABX9TyPDfysKF3gRI/f7BxhAUUo3",
      "include_colab_link": true
    },
    "kernelspec": {
      "name": "python3",
      "display_name": "Python 3"
    },
    "language_info": {
      "name": "python"
    }
  },
  "cells": [
    {
      "cell_type": "markdown",
      "metadata": {
        "id": "view-in-github",
        "colab_type": "text"
      },
      "source": [
        "<a href=\"https://colab.research.google.com/github/ShumailDilshadRao/assignment-4/blob/main/Assignments_1_to_6(c).ipynb\" target=\"_parent\"><img src=\"https://colab.research.google.com/assets/colab-badge.svg\" alt=\"Open In Colab\"/></a>"
      ]
    },
    {
      "cell_type": "code",
      "execution_count": null,
      "metadata": {
        "id": "3U_SVEsTQx6T"
      },
      "outputs": [],
      "source": []
    },
    {
      "cell_type": "markdown",
      "source": [
        "# **Project 3 Guess the Number Game Python Project (user)**"
      ],
      "metadata": {
        "id": "hrwKNEinQ5mN"
      }
    },
    {
      "cell_type": "code",
      "source": [
        "import random\n",
        "\n",
        "def computer_guess(x):\n",
        "    low = 1\n",
        "    high = x\n",
        "    feedback = ''\n",
        "    while feedback != 'c':\n",
        "        if low != 'high':\n",
        "           guess = random.randint(low,high)\n",
        "        else:\n",
        "           guess = low # could also be high b/c low = high\n",
        "        feedback = input(f\"Is {guess} too high (H),  too low (L), or correct (c)?? \")\n",
        "        if feedback == 'h':\n",
        "            high = guess - 1\n",
        "        elif feedback == 'l':\n",
        "            low = guess + 1\n",
        "    print(f\"Yah! The computer guessed your number, {guess}, correctly!!\")\n",
        "computer_guess(20)"
      ],
      "metadata": {
        "colab": {
          "base_uri": "https://localhost:8080/"
        },
        "id": "nnJCDHfORDyZ",
        "outputId": "05beb78d-2904-4d23-b44a-25b81b091813"
      },
      "execution_count": null,
      "outputs": [
        {
          "output_type": "stream",
          "name": "stdout",
          "text": [
            "Is 13 too high (H),  too low (L), or correct (c)?? l\n",
            "Is 15 too high (H),  too low (L), or correct (c)?? h\n",
            "Is 14 too high (H),  too low (L), or correct (c)?? c\n",
            "Yah! The computer guessed your number, 14, correctly!!\n"
          ]
        }
      ]
    }
  ]
}