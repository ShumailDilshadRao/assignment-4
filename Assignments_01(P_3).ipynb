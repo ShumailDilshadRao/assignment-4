{
  "nbformat": 4,
  "nbformat_minor": 0,
  "metadata": {
    "colab": {
      "provenance": [],
      "authorship_tag": "ABX9TyMKAsIryiA0Xf9yqZvgjB/i",
      "include_colab_link": true
    },
    "kernelspec": {
      "name": "python3",
      "display_name": "Python 3"
    },
    "language_info": {
      "name": "python"
    }
  },
  "cells": [
    {
      "cell_type": "markdown",
      "metadata": {
        "id": "view-in-github",
        "colab_type": "text"
      },
      "source": [
        "<a href=\"https://colab.research.google.com/github/ShumailDilshadRao/assignment-4/blob/main/Assignments_01(P_3).ipynb\" target=\"_parent\"><img src=\"https://colab.research.google.com/assets/colab-badge.svg\" alt=\"Open In Colab\"/></a>"
      ]
    },
    {
      "cell_type": "markdown",
      "source": [
        "# **03_high**"
      ],
      "metadata": {
        "id": "vrcvVCRwsWvK"
      }
    },
    {
      "cell_type": "markdown",
      "source": [
        "# **3-QR code encode**"
      ],
      "metadata": {
        "id": "aUOwb4tlsmWv"
      }
    },
    {
      "cell_type": "code",
      "source": [
        "import qrcode\n",
        "\n",
        "data = \"Don't forget to subscribe\"\n",
        "qr = qrcode.QRCode(version=1, box_size=10, border=5)\n",
        "\n",
        "qr.add_data(data)\n",
        "qr.make(fit=True)\n",
        "\n",
        "img = qr.make_image(fill_color='red', back_color='white')\n",
        "\n",
        "# Save the QR code image with corrected path and variable\n",
        "img.save(r'C:\\Users\\Rao\\Desktop\\Project 4\\Assignments 01\\03_high\\QR_code_encode.png')\n",
        "\n",
        "\n",
        "\n",
        "import qrcode\n",
        "data = \"Dont forget to subscribe\"\n",
        "img = qrcode.make(data)\n",
        "img.save(\"test.png\")\n",
        "\n",
        "\n",
        "!pip install qrcode\n",
        "\n",
        "Collecting qrcode\n",
        "  Downloading qrcode-8.0-py3-none-any.whl.metadata (17 kB)\n",
        "Downloading qrcode-8.0-py3-none-any.whl (45 kB)\n",
        "   ━━━━━━━━━━━━━━━━━━━━━━━━━━━━━━━━━━━━━━━━ 45.7/45.7 kB 1.5 MB/s eta 0:00:00\n",
        "Installing collected packages: qrcode\n",
        "Successfully installed qrcode-8.0"
      ],
      "metadata": {
        "id": "oz3yYgYXsc5r"
      },
      "execution_count": null,
      "outputs": []
    },
    {
      "cell_type": "markdown",
      "source": [
        "#** 4-Tic_Tac_Toe**"
      ],
      "metadata": {
        "id": "hwP6asOIsx01"
      }
    },
    {
      "cell_type": "code",
      "source": [
        "# player.py\n",
        "import math\n",
        "import random\n",
        "\n",
        "class Player:\n",
        "  def __init__(self,letter):\n",
        "    # letter is x or o\n",
        "    self.letter = letter\n",
        "\n",
        "    # we want all players to get their next move\n",
        "    def get_move(self,game):\n",
        "      pass\n",
        "\n",
        "      class RandomComputerPlayer(Player):\n",
        "          def __init__(self,letter):\n",
        "           super().__init__(letter)\n",
        "          def get_move(self,game):\n",
        "          pass\n",
        "\n",
        "       class HumanPlayer(Player):\n",
        "          def __init__(self,letter):\n",
        "            super().__init__(letter)\n",
        "\n",
        "          def get_move(self,game):\n",
        "             valid_square = False\n",
        "             val = None\n",
        "             while not valid_squard:\n",
        "                squard = input(self.letter + '\\'s turn.Input move (0-9):')\n",
        "                # we 're going to check that is a correct value by trying to cast\n",
        "                # it is an integer,and if it's not, then we also say its invalid\n",
        "                # if that spot is not available on the board,we also say its invalid\n",
        "                try:\n",
        "                  val = int(square)\n",
        "                  if val not in game.available_moves():\n",
        "                    raise ValueError:\n",
        "                  valid_square = True # if these are successful , then yay!\n",
        "                  except ValueError:\n",
        "                    print('Invalid square. Try again.')\n",
        "\n",
        "          return val\n"
      ],
      "metadata": {
        "id": "DsbfV6YHs5rk"
      },
      "execution_count": null,
      "outputs": []
    },
    {
      "cell_type": "code",
      "source": [
        "#game.py\n",
        "class TicTacToe:\n",
        "   def __init__(self):\n",
        "      self.board = [' ' for _ in range(9)] # we will use a single list to rep 3x3 board\n",
        "      self.current_winner = None # Keep track of winner!\n",
        "\n",
        "   def print_board(self):\n",
        "      for row in [self.board[i*3:(i+1)*3] for i in range(3)]:\n",
        "          print('|' + '|' .join(row)+ '|' )\n",
        "   @staticmethod\n",
        "  def print_board_nums():\n",
        "    # 0|1|2|3|4 etc (tells us what number corresponds to what box)\n",
        "    number_board = [[str(i) for i in range(j *3,  (j+1)*3)] for j in range(3)]:\n",
        "     for row  in number_board:\n",
        "           print('|' + '|' .join(row)+ '|' )\n",
        "\n",
        "  def available_moves(self):\n",
        "     return [i for i, spot in enumerate(self.board) if spot == ' ']\n",
        "    #move = []\n",
        "    #for (i, spot) in enumerate(self.board):\n",
        "    #  # ['x', 'x','o'] --> [(0,'x',), (1,'x'),(2, 'o')]\n",
        "    #    if  spot ==' ':\n",
        "    #      moves.append(i)\n",
        "    #return moves\n",
        "\n",
        "  def empty_squares(self):\n",
        "       return ' ' in self.board\n",
        "\n",
        "  def empty_squares(self):\n",
        "       return self.board.count(' ')\n",
        "\n",
        "  def make_move(self,square, letter):\n",
        "      # if valid move, then make the move (assign square to letter)\n",
        "      # tenn return true. if invalid, return false\n",
        "      if self.board[square] == ' ' :\n",
        "          self.board[square] = letter\n",
        "          if self.winner(square, letter):\n",
        "              self.current_winner = letter\n",
        "          return True\n",
        "           return False\n",
        "\n",
        "    def winner(self,square, letter):\n",
        "      # winner if 3 in a row anywhere.... we have to check all of these !\n",
        "      # first let's check the row\n",
        "      row_ind = square // 3\n",
        "      row = square.board[row_ind*3 : (row_ind + 1) * 3]\n",
        "      if all ([spot == letter for spot in row])\n",
        "         return True\n",
        "         # check the column\n",
        "         col_ind = square % 3\n",
        "         column = [self.board[col_ind +i*3] for i in range(3)]\n",
        "         if all([spot == letter for spot in column]):\n",
        "          return True\n",
        "          # check diagonals\n",
        "\n",
        "\n",
        "  def play(game,x_player, o_player, print_game = True):\n",
        "    # return the winner of the game(the letter)! or  None for a tie\n",
        "    if print_game:\n",
        "      game.print_board_nums()\n",
        "      letter = 'X' # starting letter\n",
        "      # iterate while the game still  has empty squares\n",
        "      # (we don't have to worry about winner because we'll just return that\n",
        "      # which breaks the loop)\n",
        "    while game.empty_square():\n",
        "         # get the move from the appropriate player\n",
        "       if letter == 'O'\n",
        "           square = o_player.game_move(game)\n",
        "       else :\n",
        "            square = x_player.get(game)\n",
        "            # let's define a function to make a move!\n",
        "        if game.make_move(square,letter):\n",
        "          if prin_game:\n",
        "            print(letter + f' makes a move to  square {square}')\n",
        "            game.print_board()\n",
        "            print('') # just empty line\n",
        "          if game.current_winner:\n",
        "            if print_game:\n",
        "              print(letter + 'wins!')\n",
        "            return letter\n",
        "\n",
        "            # after we our move , we need to alternate letters\n",
        "            letter = 'O' if letter == 'X' else 'X'\n",
        "           # if letter == 'X':\n",
        "           #   letter = 'O'\n",
        "           #   else:\n",
        "           #     letter = 'X'\n",
        "          if print_game:\n",
        "            print('It\\'s a  tie!')\n",
        "\n",
        "\n"
      ],
      "metadata": {
        "id": "TmszNg_qaU5n"
      },
      "execution_count": null,
      "outputs": []
    },
    {
      "cell_type": "markdown",
      "source": [
        "# **5-Binary Search**"
      ],
      "metadata": {
        "id": "4rsF1tHjtn4o"
      }
    },
    {
      "cell_type": "code",
      "source": [
        "def naive_search(l,target):\n",
        "    for i in range(len(l)):\n",
        "        if l[i] == target:\n",
        "            return i\n",
        "    return -1\n",
        "\n",
        "def binary_search(l,target,low=None,high=None):\n",
        "    if low is None:\n",
        "        low=0\n",
        "    if high is None:\n",
        "        high = len(l) - 1  # FIXED: Corrected the assignment\n",
        "\n",
        "    if high<low:\n",
        "        return -1\n",
        "    midpoint = (low+high) // 2\n",
        "    if l[midpoint] == target:\n",
        "        return midpoint\n",
        "    elif target < l[midpoint]:\n",
        "        return binary_search(l,target,low,midpoint-1)\n",
        "    else:\n",
        "        return binary_search(l,target, midpoint+1,high)\n",
        "\n",
        "if __name__ == '__main__':\n",
        "    l=[1,3,5,10,12]\n",
        "    target = 10\n",
        "    print(naive_search(l,target))\n",
        "    print(binary_search(l,target))"
      ],
      "metadata": {
        "id": "4VzORLYEtsef"
      },
      "execution_count": null,
      "outputs": []
    },
    {
      "cell_type": "markdown",
      "source": [
        "# **6-Bulk File Re_namer**"
      ],
      "metadata": {
        "id": "W4WDxbHot1hA"
      }
    },
    {
      "cell_type": "code",
      "source": [
        "import os\n",
        "def main():\n",
        "    i = 0\n",
        "    path = \"/Users/maeydahmasroor/Desktop/04_assignment/test/\"\n",
        "    for filename in os.listdir(path):\n",
        "        mydest = \"img\"+str(i)+\"jpg\"\n",
        "        my_source = path + filename\n",
        "        mydest = path + mydest\n",
        "        os.rename(my_source,my_source)\n",
        "        i+=1\n",
        "\n",
        "if __name__ == '__main__':\n",
        "    main()"
      ],
      "metadata": {
        "id": "s-h6uc0kt8-l"
      },
      "execution_count": null,
      "outputs": []
    },
    {
      "cell_type": "markdown",
      "source": [
        "# **7-Weather Program**"
      ],
      "metadata": {
        "id": "lKjfZGOCuCU9"
      }
    },
    {
      "cell_type": "code",
      "source": [
        "\n",
        "import requests\n",
        "from pprint import pprint\n",
        "API_KEY=\"544f179e3d863287ea23403438247324\"\n",
        "city_name = input(\"Enter city name\")\n",
        "base_url = 'http://openweathermap.org/data/2.5/weather?=appid='+API_KEY+\"&q=\"+city_name\n",
        "weather_data = requests.get(base_url).json()\n",
        "pprint(weather_data)\n",
        "\n",
        "\n",
        "Enter countrynamePakistan\n",
        "{'cod': 401,\n",
        " 'message': 'Invalid API key. Please see '\n",
        "            'http://openweathermap.org/faq#error401 for more info.'}"
      ],
      "metadata": {
        "id": "5CjGsiLKuL2b"
      },
      "execution_count": null,
      "outputs": []
    },
    {
      "cell_type": "markdown",
      "source": [
        "# **8-Streamlit Crash Course**"
      ],
      "metadata": {
        "id": "oS16u6DmudkD"
      }
    },
    {
      "cell_type": "code",
      "source": [],
      "metadata": {
        "id": "YRTiqZ-Jugqz"
      },
      "execution_count": null,
      "outputs": []
    },
    {
      "cell_type": "markdown",
      "source": [
        "# **9-Streamlit Web App-Country Information Cards**"
      ],
      "metadata": {
        "id": "EKeXvYTDuqHC"
      }
    },
    {
      "cell_type": "code",
      "source": [
        "import streamlit as st\n",
        "import pandas as pd\n",
        "import matplotlib.pyplot as pyplot\n",
        "\n",
        "st.title(\"Simple data\")\n",
        "upload_file = st.file_uploader(\"choose a CSV file\",type=\"csv\")\n",
        "\n",
        "if upload_file is not None:\n",
        "    st.write(\"file uploaded\")\n",
        "    df=  pd.read_csv(upload_file)\n",
        "\n",
        "    st.subheader(\"data preview\")\n",
        "    st.write(df.head())\n",
        "\n",
        "    st.subheader(\"Data summary\")\n",
        "    st.write(df.describe())\n",
        "\n",
        "    st.subheader(\"filter data\")\n",
        "    col = df.columns.tolist()\n",
        "    select_column = st.selectbox(\"sleect column to filter\",col)\n",
        "\n",
        "    unique_value =df[select_column].unique()\n",
        "\n",
        "    select_value = st.selectbox(\"sleect value\",unique_value)\n",
        "\n",
        "    fliter_df = df[df[select_column] == select_value]\n",
        "\n",
        "    st.write(fliter_df)\n",
        "\n",
        "    st.subheader(\"plot data\")\n",
        "    x_col = st.selectbox(\"select x-axia col\",col)\n",
        "    y_col = st.selectbox(\"select y-axia col\",col)\n",
        "\n",
        "    if st.button(\"Generate plot\"):\n",
        "        st.line_chart(fliter_df.set_index(x_col)[y_col])\n",
        "else:\n",
        "    st.write(\"wating for file to upload\")"
      ],
      "metadata": {
        "id": "8imIZYD6utGX"
      },
      "execution_count": null,
      "outputs": []
    }
  ]
}