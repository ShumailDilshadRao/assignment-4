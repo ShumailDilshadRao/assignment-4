{
  "nbformat": 4,
  "nbformat_minor": 0,
  "metadata": {
    "colab": {
      "provenance": [],
      "authorship_tag": "ABX9TyOZtGBwYb3cuRrOmakdr7q+",
      "include_colab_link": true
    },
    "kernelspec": {
      "name": "python3",
      "display_name": "Python 3"
    },
    "language_info": {
      "name": "python"
    }
  },
  "cells": [
    {
      "cell_type": "markdown",
      "metadata": {
        "id": "view-in-github",
        "colab_type": "text"
      },
      "source": [
        "<a href=\"https://colab.research.google.com/github/ShumailDilshadRao/assignment-4/blob/main/Assignments_1_to_6(P_1).ipynb\" target=\"_parent\"><img src=\"https://colab.research.google.com/assets/colab-badge.svg\" alt=\"Open In Colab\"/></a>"
      ]
    },
    {
      "cell_type": "markdown",
      "source": [
        "# **Project 1Mad libs Python Project**"
      ],
      "metadata": {
        "id": "xyO2h7lPIjFX"
      }
    },
    {
      "cell_type": "markdown",
      "source": [
        "# **madlib**"
      ],
      "metadata": {
        "id": "KNqqGXWTJgkL"
      }
    },
    {
      "cell_type": "code",
      "source": [
        " # string concatenation (aka how to put strings together)\n",
        " # suppose we want to create a string that says  \"subscribe to  _________\"\n",
        " #youtuber = \"\" #some string variable\n",
        "\n",
        " # a few ways to do this\n",
        "# print(\"subscribe to \" + youtuber)\n",
        "# print(\"subscribe to {}\".format(youtuber))\n",
        "# print(f\"subscribe to {youtuber}\")\n",
        "\n",
        "adj = input(\"Adjective: \")\n",
        "verb1 = input(\"Verb: \")\n",
        "verb2 = input(\"Verb: \")\n",
        "famous_person = input(\"Famous person\")\n",
        "\n",
        "madlib = f\"Computer programming is so {adj} ! it makes me so excited all the time because \\\n",
        "    I love to {verb1} . Stay hydrated and {verb2} like you are {famous_person}!\"\n",
        "\n",
        "print(madlib)"
      ],
      "metadata": {
        "colab": {
          "base_uri": "https://localhost:8080/"
        },
        "id": "0QDEtEwRJoU9",
        "outputId": "7ca39377-f682-4d94-d099-084f647ae2ab"
      },
      "execution_count": null,
      "outputs": [
        {
          "output_type": "stream",
          "name": "stdout",
          "text": [
            "Adjective: carefully\n",
            "Verb: wanted\n",
            "Verb: visited\n",
            "Famous personNalsa Mondola\n",
            "Computer programming is so carefully ! it makes me so excited all the time because    I love to wanted . Stay hydrated and visited like you are Nalsa Mondola!\n"
          ]
        }
      ]
    },
    {
      "cell_type": "markdown",
      "source": [
        "# **random_madlibs**"
      ],
      "metadata": {
        "id": "Hj4flI9pLIRD"
      }
    },
    {
      "cell_type": "code",
      "source": [
        "from sample_madlibs import hp, code, zombie, hungergames\n",
        "import random\n",
        "\n",
        "if __name__ == '__main__':\n",
        "    m = random.choice([hp, code, zombie, hungergames])  # Fixed the typo\n",
        "    m.madlib()"
      ],
      "metadata": {
        "id": "_lruP9YwQtkD"
      },
      "execution_count": null,
      "outputs": []
    }
  ]
}