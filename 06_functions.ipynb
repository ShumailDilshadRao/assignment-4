{
  "nbformat": 4,
  "nbformat_minor": 0,
  "metadata": {
    "colab": {
      "provenance": [],
      "authorship_tag": "ABX9TyO8Xaw/6Rx8RT74JpVUhVFv",
      "include_colab_link": true
    },
    "kernelspec": {
      "name": "python3",
      "display_name": "Python 3"
    },
    "language_info": {
      "name": "python"
    }
  },
  "cells": [
    {
      "cell_type": "markdown",
      "metadata": {
        "id": "view-in-github",
        "colab_type": "text"
      },
      "source": [
        "<a href=\"https://colab.research.google.com/github/ShumailDilshadRao/assignment-4/blob/main/06_functions.ipynb\" target=\"_parent\"><img src=\"https://colab.research.google.com/assets/colab-badge.svg\" alt=\"Open In Colab\"/></a>"
      ]
    },
    {
      "cell_type": "markdown",
      "source": [
        "# **`averages`**"
      ],
      "metadata": {
        "id": "wZAgBwlMUO6p"
      }
    },
    {
      "cell_type": "code",
      "source": [
        "def average(a: float, b: float):\n",
        "    \"\"\"\n",
        "    Returns the number which is half way between a and b\n",
        "    \"\"\"\n",
        "    sum = a + b\n",
        "    return sum / 2\n",
        "\n",
        "def main():\n",
        "    avg_1 = average(0, 30)\n",
        "    avg_2 = average(8, 30)\n",
        "\n",
        "    final = average(avg_1, avg_2)\n",
        "    print(\"avg_1\", avg_1)\n",
        "    print(\"avg_2\", avg_2)\n",
        "    print(\"final\", final)\n",
        "\n",
        "# There is no need to edit code beyond this point\n",
        "\n",
        "if __name__ == '__main__':\n",
        "    main()"
      ],
      "metadata": {
        "id": "jbZ9mvH-UTu0"
      },
      "execution_count": null,
      "outputs": []
    },
    {
      "cell_type": "markdown",
      "source": [
        "# **chaotic_counting**"
      ],
      "metadata": {
        "id": "7gsmLGHCVDbH"
      }
    },
    {
      "cell_type": "code",
      "source": [
        "import random\n",
        "\n",
        "DONE_LIKELIHOOD = 0.1 # 10% chance of stopping at each iteration\n",
        "\n",
        "def chaotic_counting():\n",
        "    for i in range(30):\n",
        "        curr_num = i + 1\n",
        "        if done():\n",
        "            return  # This stops the function randomly\n",
        "        print(curr_num)\n",
        "\n",
        "def done():\n",
        "      \"\"\" Returns True with a probability of DONE_LIKELIHOOD (10%) \"\"\"\n",
        "      return random.random() < DONE_LIKELIHOOD\n",
        "\n",
        "def main():\n",
        "    print(\"I'm going to count until 10 or until I feel like stopping, whichever comes first.\")\n",
        "    chaotic_counting()\n",
        "    print(\"I'm done\")\n",
        "\n",
        "if __name__ == \"__main__\":\n",
        "    main()"
      ],
      "metadata": {
        "colab": {
          "base_uri": "https://localhost:8080/"
        },
        "id": "NSPLT3klVIP9",
        "outputId": "14ff4f15-cd26-43e6-bf0d-e02ff44b3464"
      },
      "execution_count": 1,
      "outputs": [
        {
          "output_type": "stream",
          "name": "stdout",
          "text": [
            "I'm going to count until 10 or until I feel like stopping, whichever comes first.\n",
            "1\n",
            "I'm done\n"
          ]
        }
      ]
    },
    {
      "cell_type": "markdown",
      "source": [
        "# **count_even**"
      ],
      "metadata": {
        "id": "vgHYw-94VXnD"
      }
    },
    {
      "cell_type": "code",
      "source": [
        "def count_even(list):\n",
        "    \"\"\"\n",
        "    Returns the number of even numbers in the list.\n",
        "    >>> count_even([1, 2, 3, 4])\n",
        "    2\n",
        "    >>> count_even([1, 3, 5, 7])\n",
        "    0\n",
        "    \"\"\"\n",
        "    count = 0  # Stores count of even numbers\n",
        "    for num in list:\n",
        "        if num % 2 == 0:\n",
        "            count += 1\n",
        "    return count  # Return count instead of printing\n",
        "\n",
        "\n",
        "def count_odd(list):\n",
        "    \"\"\"\n",
        "    Returns the number of odd numbers in the list.\n",
        "    >>> count_odd([1, 2, 3, 4])\n",
        "    2\n",
        "    >>> count_odd([2, 4, 6, 8])\n",
        "    0\n",
        "    \"\"\"\n",
        "    count = 0  # Stores count of odd numbers\n",
        "    for num in list:\n",
        "        if num % 2 == 1:\n",
        "            count += 1\n",
        "    return count  # Return count instead of printing\n",
        "\n",
        "\n",
        "def get_list_of_ints():\n",
        "    \"\"\"\n",
        "    Reads in integers until the user presses enter and returns the resulting list.\n",
        "    \"\"\"\n",
        "    list = []  # Empty list to store integers\n",
        "    while True:\n",
        "        user_input = input(\"Enter an integer (or press Enter to stop): \")\n",
        "        if user_input == \"\":  # Stop if input is empty\n",
        "            break\n",
        "        try:\n",
        "            list.append(int(user_input))  # Convert to integer and add to list\n",
        "        except ValueError:\n",
        "            print(\"Invalid input. Please enter an integer.\")  # Handle non-integer input\n",
        "    return list\n",
        "\n",
        "\n",
        "def main():\n",
        "    list = get_list_of_ints()\n",
        "    even_count = count_even(list)\n",
        "    odd_count = count_odd(list)\n",
        "\n",
        "    print(f\"Even numbers: {even_count}\")\n",
        "    print(f\"Odd numbers: {odd_count}\")\n",
        "\n",
        "\n",
        "if __name__ == '__main__':\n",
        "    main()"
      ],
      "metadata": {
        "id": "hbqIw14NVha5"
      },
      "execution_count": null,
      "outputs": []
    },
    {
      "cell_type": "markdown",
      "source": [
        "# **double_num**"
      ],
      "metadata": {
        "id": "onGnT1zWVqBw"
      }
    },
    {
      "cell_type": "code",
      "source": [
        "def double(num: int):\n",
        "    return num * 3\n",
        "\n",
        "# There is no need to edit code beyond this point\n",
        "\n",
        "def main():\n",
        "    num = int(input(\"Enter a number: \"))\n",
        "    num_times_2 = double(num)\n",
        "    print(\"Double number that is\", num_times_2)\n",
        "\n",
        "if __name__ == '__main__':\n",
        "    main()\n"
      ],
      "metadata": {
        "colab": {
          "base_uri": "https://localhost:8080/"
        },
        "id": "-lNwDvqtVzBA",
        "outputId": "f8a9e352-49dd-4f3d-c0ef-547f65f03c74"
      },
      "execution_count": 2,
      "outputs": [
        {
          "output_type": "stream",
          "name": "stdout",
          "text": [
            "Enter a number: 8\n",
            "Double number that is 24\n"
          ]
        }
      ]
    },
    {
      "cell_type": "markdown",
      "source": [
        "# **get_name**"
      ],
      "metadata": {
        "id": "-12NaNE6V-4r"
      }
    },
    {
      "cell_type": "code",
      "source": [
        "def get_name():\n",
        "    return \"Dilshad\"\n",
        "\n",
        "# There is no need to edit code beyond this point\n",
        "\n",
        "def main():\n",
        "    name = get_name() # get_name() will return a string which we store to the 'name' variable here\n",
        "    print(f\"Shumaila { name} ! 🤠\")\n",
        "\n",
        "if __name__ == '__main__':\n",
        "    main()"
      ],
      "metadata": {
        "colab": {
          "base_uri": "https://localhost:8080/"
        },
        "id": "OLS_9OmlWGa3",
        "outputId": "6e53b3a6-f0d2-40c1-9b55-fb8801f387fd"
      },
      "execution_count": 3,
      "outputs": [
        {
          "output_type": "stream",
          "name": "stdout",
          "text": [
            "Shumaila Dilshad ! 🤠\n"
          ]
        }
      ]
    },
    {
      "cell_type": "markdown",
      "source": [
        "# **is_odd**"
      ],
      "metadata": {
        "id": "XhGzjeQiWTbj"
      }
    },
    {
      "cell_type": "code",
      "source": [
        "\n",
        "def main():\n",
        "    num = (10, 11, 12, 13, 14, 15, 16, 17, 18, 19)\n",
        "    for i in num:\n",
        "        if is_odd(i):\n",
        "            print(f\"{i} odd\")\n",
        "        else:\n",
        "            print(f\"{i} even\")\n",
        "\n",
        "def is_odd(value: int):\n",
        "    \"\"\"\n",
        "    Checks to see if a value is odd. If it is, returns true.\n",
        "    \"\"\"\n",
        "    remainder = value % 2  # 0 if value is divisible by 2, 1 if it isn't\n",
        "    return remainder == 1\n",
        "\n",
        "# There is no need to edit code beyond this point\n",
        "if __name__ == '__main__':\n",
        "    main()"
      ],
      "metadata": {
        "colab": {
          "base_uri": "https://localhost:8080/"
        },
        "id": "qJ1gmU0-WaZz",
        "outputId": "66086f4a-3185-48fa-dcb0-08aa7f4cff51"
      },
      "execution_count": 5,
      "outputs": [
        {
          "output_type": "stream",
          "name": "stdout",
          "text": [
            "10 even\n",
            "11 odd\n",
            "12 even\n",
            "13 odd\n",
            "14 even\n",
            "15 odd\n",
            "16 even\n",
            "17 odd\n",
            "18 even\n",
            "19 odd\n"
          ]
        }
      ]
    },
    {
      "cell_type": "markdown",
      "source": [
        "# **print_divisor**"
      ],
      "metadata": {
        "id": "L0sSIlQXWqoE"
      }
    },
    {
      "cell_type": "code",
      "source": [
        "def print_divisors(num: int):\n",
        "    print(\"Here are the divisors of\", num)\n",
        "    for i in range(num):\n",
        "        curr_value = i + 1\n",
        "        if num % curr_value == 0:\n",
        "            print(curr_value)\n",
        "\n",
        "def main():\n",
        "    num = int(input(\"Enter a number: \"))\n",
        "    print_divisors(num)\n",
        "# There is no need to edit code beyond this point\n",
        "\n",
        "if __name__ == '__main__':\n",
        "    main()"
      ],
      "metadata": {
        "colab": {
          "base_uri": "https://localhost:8080/"
        },
        "id": "aHGDWxdYWyxn",
        "outputId": "d980d86e-12b2-4be8-d839-4498cae10bde"
      },
      "execution_count": 6,
      "outputs": [
        {
          "output_type": "stream",
          "name": "stdout",
          "text": [
            "Enter a number: 65\n",
            "Here are the divisors of 65\n",
            "1\n",
            "5\n",
            "13\n",
            "65\n"
          ]
        }
      ]
    },
    {
      "cell_type": "markdown",
      "source": [
        "# **print_multiple**"
      ],
      "metadata": {
        "id": "b6nsZFJ0W_ET"
      }
    },
    {
      "cell_type": "code",
      "source": [
        "def print_multiple(message: str, repeats: int):\n",
        "   for i in range(repeats):  # Har iteration pe message print hoga\n",
        "      print(message)\n",
        "\n",
        "\n",
        "def main():\n",
        "   message = str(input(\"Please type a message:\"))\n",
        "   repeats = int(input(\"Enter a number of times to reapear your message:\"))\n",
        "   print_multiple(message ,repeats)\n",
        "\n",
        "\n",
        "\n",
        "if __name__ == \"__main__\":  # Sahi syntax\n",
        "    main()"
      ],
      "metadata": {
        "colab": {
          "base_uri": "https://localhost:8080/"
        },
        "id": "uVAsBsp4XDVH",
        "outputId": "09a5d0da-0ad7-4764-fa22-7d923ad5636b"
      },
      "execution_count": 7,
      "outputs": [
        {
          "output_type": "stream",
          "name": "stdout",
          "text": [
            "Please type a message:Hi! I m Shumaila...........\n",
            "Enter a number of times to reapear your message:7\n",
            "Hi! I m Shumaila...........\n",
            "Hi! I m Shumaila...........\n",
            "Hi! I m Shumaila...........\n",
            "Hi! I m Shumaila...........\n",
            "Hi! I m Shumaila...........\n",
            "Hi! I m Shumaila...........\n",
            "Hi! I m Shumaila...........\n"
          ]
        }
      ]
    },
    {
      "cell_type": "markdown",
      "source": [
        "# **print_ones_digit**"
      ],
      "metadata": {
        "id": "6GHxLijIXYp0"
      }
    },
    {
      "cell_type": "code",
      "source": [
        "def print_ones_digit(num):\n",
        "     print(\"The ones digit is\", num % 10)\n",
        "\n",
        "def main():\n",
        "     num = int(input(\"Enter a number: \"))\n",
        "     print_ones_digit(num)\n",
        "if __name__ == '__main__':\n",
        "          main()"
      ],
      "metadata": {
        "colab": {
          "base_uri": "https://localhost:8080/"
        },
        "id": "GTt_2TNbXhLW",
        "outputId": "0e728e72-de8d-4e38-9289-c04b18768699"
      },
      "execution_count": 10,
      "outputs": [
        {
          "output_type": "stream",
          "name": "stdout",
          "text": [
            "Enter a number: 5\n",
            "The ones digit is 5\n"
          ]
        }
      ]
    },
    {
      "cell_type": "markdown",
      "source": [
        "# **sentence_generator**"
      ],
      "metadata": {
        "id": "ECsBiE0pXv3w"
      }
    },
    {
      "cell_type": "code",
      "source": [
        "def make_sentence(word, part_of_speech):\n",
        "    if part_of_speech == 0:\n",
        "        # noun\n",
        "        print(\"I am excited to add this \" + word + \" to my vast collection of them!\")\n",
        "    elif part_of_speech == 1:\n",
        "        # verb\n",
        "        print(\"It's so nice outside today it makes me want to \" + word + \"!\")\n",
        "    elif part_of_speech == 2:\n",
        "        # adjective\n",
        "        print(\"Looking out my window, the sky is big and \" + word + \"!\")\n",
        "    else:\n",
        "        # part_of_speech is invalid (not 0, 1, or 2)\n",
        "        print(\"Part of speech must be 0, 1, or 2! Can't make a sentence.\")\n",
        "\n",
        "# There is no need to edit code beyond this point\n",
        "\n",
        "def main():\n",
        "    word :  str = input(\"Please type a noun, verb, or adjective: \")\n",
        "    print(\"Is this a noun, verb, or adjective?\")\n",
        "    part_of_speech = int(input(\"Type 0 for noun, 1 for verb, 2 for adjective: \"))\n",
        "    make_sentence(word, part_of_speech)\n",
        "\n",
        "if __name__ == '__main__':\n",
        "    main()"
      ],
      "metadata": {
        "colab": {
          "base_uri": "https://localhost:8080/"
        },
        "id": "0Xn1_uTfX3xq",
        "outputId": "2ca7b6af-4e17-45d1-a35e-4d6fe3d6c963"
      },
      "execution_count": 13,
      "outputs": [
        {
          "output_type": "stream",
          "name": "stdout",
          "text": [
            "Please type a noun, verb, or adjective: carefully\n",
            "Is this a noun, verb, or adjective?\n",
            "Type 0 for noun, 1 for verb, 2 for adjective: 2\n",
            "Looking out my window, the sky is big and carefully!\n"
          ]
        }
      ]
    }
  ]
}