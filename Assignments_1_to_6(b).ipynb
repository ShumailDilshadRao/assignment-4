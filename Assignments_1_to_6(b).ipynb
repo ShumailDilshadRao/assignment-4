{
  "nbformat": 4,
  "nbformat_minor": 0,
  "metadata": {
    "colab": {
      "provenance": [],
      "authorship_tag": "ABX9TyOgNfFpSUOOCZO3Q2CJ2NfV",
      "include_colab_link": true
    },
    "kernelspec": {
      "name": "python3",
      "display_name": "Python 3"
    },
    "language_info": {
      "name": "python"
    }
  },
  "cells": [
    {
      "cell_type": "markdown",
      "metadata": {
        "id": "view-in-github",
        "colab_type": "text"
      },
      "source": [
        "<a href=\"https://colab.research.google.com/github/ShumailDilshadRao/assignment-4/blob/main/Assignments_1_to_6(b).ipynb\" target=\"_parent\"><img src=\"https://colab.research.google.com/assets/colab-badge.svg\" alt=\"Open In Colab\"/></a>"
      ]
    },
    {
      "cell_type": "code",
      "execution_count": null,
      "metadata": {
        "id": "BYr0A0FgP6So"
      },
      "outputs": [],
      "source": []
    },
    {
      "cell_type": "markdown",
      "source": [
        "# **Project 2 Guess the Number Game Python Project (computer)**"
      ],
      "metadata": {
        "id": "V7E9FEgxQLqI"
      }
    },
    {
      "cell_type": "code",
      "source": [
        "import random\n",
        "\n",
        "def guess(x):\n",
        "    random_number = random.randint(1, x)  # Fix range\n",
        "    guess = 0  # Initialize guess\n",
        "    while guess != random_number:  # Fix looping condition\n",
        "        try:\n",
        "            guess = int(input(f\"Guess a number between 1 and {x}: \"))  # Get user input\n",
        "            if guess < random_number:\n",
        "                print(\"Sorry, guess again. Too low.\")\n",
        "            elif guess > random_number:\n",
        "                print(\"Sorry, guess again. Too high.\")\n",
        "        except ValueError:\n",
        "            print(\"Invalid input! Please enter a number.\")\n",
        "\n",
        "    print(f\"Yay, Congrats! You guessed the number {random_number} correctly!\")\n",
        "\n",
        "# Function ko call karna\n",
        "guess(20)"
      ],
      "metadata": {
        "colab": {
          "base_uri": "https://localhost:8080/"
        },
        "id": "Mgh3UfbXQQwp",
        "outputId": "dc72928d-f36c-47c9-f899-9c8e18410524"
      },
      "execution_count": null,
      "outputs": [
        {
          "output_type": "stream",
          "name": "stdout",
          "text": [
            "Guess a number between 1 and 20: 18\n",
            "Sorry, guess again. Too high.\n",
            "Guess a number between 1 and 20: 12\n",
            "Sorry, guess again. Too low.\n",
            "Guess a number between 1 and 20: 15\n",
            "Sorry, guess again. Too high.\n",
            "Guess a number between 1 and 20: 14\n",
            "Yay, Congrats! You guessed the number 14 correctly!\n"
          ]
        }
      ]
    }
  ]
}