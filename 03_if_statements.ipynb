{
  "nbformat": 4,
  "nbformat_minor": 0,
  "metadata": {
    "colab": {
      "provenance": [],
      "authorship_tag": "ABX9TyOX6xC6Eh8zWXvQ09zhnRCf",
      "include_colab_link": true
    },
    "kernelspec": {
      "name": "python3",
      "display_name": "Python 3"
    },
    "language_info": {
      "name": "python"
    }
  },
  "cells": [
    {
      "cell_type": "markdown",
      "metadata": {
        "id": "view-in-github",
        "colab_type": "text"
      },
      "source": [
        "<a href=\"https://colab.research.google.com/github/ShumailDilshadRao/assignment-4/blob/main/03_if_statements.ipynb\" target=\"_parent\"><img src=\"https://colab.research.google.com/assets/colab-badge.svg\" alt=\"Open In Colab\"/></a>"
      ]
    },
    {
      "cell_type": "markdown",
      "source": [
        "# **internation  al_voting_age**"
      ],
      "metadata": {
        "id": "4UnY4UNtDW9H"
      }
    },
    {
      "cell_type": "code",
      "source": [
        "PETURKSBOUIPO_AGE : int = 16\n",
        "STANLAU_AGE : int = 25\n",
        "MAYENGUA_AGE : int = 48\n",
        "\n",
        "def main():\n",
        "    # Get the user's age\n",
        "    user_age = int(input(\"How old are you?\"))\n",
        "\n",
        "    # Check if the user can vote in Peturksbouipo\n",
        "    if user_age >= PETURKSBOUIPO_AGE:\n",
        "        print(f\"You can vote in Peturksbouipo where the voting age is {PETURKSBOUIPO_AGE}.\")\n",
        "    else:\n",
        "        print(f\"You cannot vote in Peturksbouipo where the voting age is {PETURKSBOUIPO_AGE}.\")\n",
        "\n",
        "    # Check if the user can vote in Stanlau\n",
        "    if user_age >= STANLAU_AGE:\n",
        "        print(f\"You can vote in Stanlau where the voting age is {STANLAU_AGE}.\")\n",
        "    else:\n",
        "        print(f\"You cannot vote in Stanlau where the voting age is {STANLAU_AGE}.\")\n",
        "\n",
        "    # Check if user can vote in Mayengua\n",
        "    if user_age >= MAYENGUA_AGE:\n",
        "        print(f\"You can vote in Mayengua where the voting age is {MAYENGUA_AGE}.\")\n",
        "    else:\n",
        "        print(f\"You cannot vote in Mayengua where the voting age is {MAYENGUA_AGE}.\")\n",
        "\n",
        "\n",
        "# There is no need to edit code beyond this point\n",
        "\n",
        "if __name__ == '__main__':\n",
        "    main()"
      ],
      "metadata": {
        "colab": {
          "base_uri": "https://localhost:8080/"
        },
        "id": "v48jRf9JDtHd",
        "outputId": "c20d9c76-946e-412e-d3dd-de10092b4f4a"
      },
      "execution_count": null,
      "outputs": [
        {
          "output_type": "stream",
          "name": "stdout",
          "text": [
            "How old are you?29\n",
            "You can vote in Peturksbouipo where the voting age is 16.\n",
            "You can vote in Stanlau where the voting age is 25.\n",
            "You cannot vote in Mayengua where the voting age is 48.\n"
          ]
        }
      ]
    },
    {
      "cell_type": "markdown",
      "source": [
        "# **leap_year**"
      ],
      "metadata": {
        "id": "Co8Hv-jzD55A"
      }
    },
    {
      "cell_type": "markdown",
      "source": [],
      "metadata": {
        "id": "iRk5FquuD50j"
      }
    },
    {
      "cell_type": "code",
      "source": [
        "\n",
        "def main():\n",
        "    # Get the year to check from the user\n",
        "    year = int(input('Please input a year: '))\n",
        "\n",
        "    if year % 4 == 0:  # Checking whether the provided year is evenly divisibly by 4\n",
        "        if year % 100 == 0:  # Checking whether the provided year is evenly divisibly by 100\n",
        "            if year % 400 == 0:  # Checking whether the provided year is evenly divisibly by 400\n",
        "                print(\"That's a leap year!...\")\n",
        "            else:  # (Not divisible by 400,divisible by 100)\n",
        "                print(\"That's not a leap year.'''\")\n",
        "        else:  # (Not divisible by 100,divisible by 4)\n",
        "            print(\"That's a leap year!!!!\")\n",
        "    else:  # (Not divisible by 4,100,400.Except these the answer should be like this.)\n",
        "        print(\"That's not a leap year.____\")\n",
        "\n",
        "\n",
        "# There is no need to edit code beyond this point\n",
        "\n",
        "if __name__ == '__main__':\n",
        "    main()"
      ],
      "metadata": {
        "colab": {
          "base_uri": "https://localhost:8080/"
        },
        "id": "ck6qC-XYEDXE",
        "outputId": "c1c6129f-2e47-4ae6-81f3-f28ae878122d"
      },
      "execution_count": null,
      "outputs": [
        {
          "output_type": "stream",
          "name": "stdout",
          "text": [
            "Please input a year: 1991\n",
            "That's not a leap year.____\n"
          ]
        }
      ]
    },
    {
      "cell_type": "markdown",
      "source": [
        "# **print_events**"
      ],
      "metadata": {
        "id": "saMi2YaYEOKe"
      }
    },
    {
      "cell_type": "code",
      "source": [
        "def main():\n",
        "    # This for-loop start at 0 and counts up to 19 (for a total of 20 numbers)\n",
        "    # Even numbers\n",
        "  for i in range(5):\n",
        "     print(i *2)\n",
        "  # Odd numbers\n",
        "  for i in range(5):\n",
        "     print(i * 3)  # Use the 'i' value inside the for-loop\n",
        "\n",
        "# Call the main function when \"run\", no need to edit anything below!\n",
        "if __name__ == \"__main__\":\n",
        "    main()"
      ],
      "metadata": {
        "colab": {
          "base_uri": "https://localhost:8080/"
        },
        "id": "srk9ovySEWud",
        "outputId": "425a64ea-c47c-4fc8-b4d3-507c9e8147ad"
      },
      "execution_count": null,
      "outputs": [
        {
          "output_type": "stream",
          "name": "stdout",
          "text": [
            "0\n",
            "2\n",
            "4\n",
            "6\n",
            "8\n",
            "0\n",
            "3\n",
            "6\n",
            "9\n",
            "12\n"
          ]
        }
      ]
    },
    {
      "cell_type": "markdown",
      "source": [
        "# **random_numbers**"
      ],
      "metadata": {
        "id": "IKhYZE1WE4Yk"
      }
    },
    {
      "cell_type": "code",
      "source": [
        "\n",
        "import random\n",
        "\n",
        "#N_NUMBERS : int = 10\n",
        "#MIN_VALUE : int = 1\n",
        "#MAX_VALUE : int = 100\n",
        "\n",
        "def main():\n",
        "    \"\"\"\n",
        "    You should write your code here. Make sure to delete\n",
        "    the 'pass' line before starting to write your own code.\n",
        "    \"\"\"\n",
        "    for i in range(10):\n",
        "        print(random.randint(1,100))\n",
        "        print()\n",
        "\n",
        "if __name__ == '__main__':\n",
        "    main()"
      ],
      "metadata": {
        "colab": {
          "base_uri": "https://localhost:8080/"
        },
        "id": "bRGYMpxIFAYA",
        "outputId": "956c7341-baa8-40ca-9da2-238d67286119"
      },
      "execution_count": null,
      "outputs": [
        {
          "output_type": "stream",
          "name": "stdout",
          "text": [
            "46\n",
            "\n",
            "65\n",
            "\n",
            "28\n",
            "\n",
            "92\n",
            "\n",
            "71\n",
            "\n",
            "68\n",
            "\n",
            "68\n",
            "\n",
            "2\n",
            "\n",
            "8\n",
            "\n",
            "88\n",
            "\n"
          ]
        }
      ]
    },
    {
      "cell_type": "markdown",
      "source": [
        "# **tall_enough_to_ride**"
      ],
      "metadata": {
        "id": "-Z-LQK3sFNeq"
      }
    },
    {
      "cell_type": "code",
      "source": [
        "MINIMUM_HEIGHT : int = 30 # arbitrary units :)\n",
        "\n",
        "def main():\n",
        "  height = float(input(\"How tall are you ? ....👉.... \"))\n",
        "  if height >= MINIMUM_HEIGHT:\n",
        "        print(\"You're tall enough to ride!!!😇\")\n",
        "  else:\n",
        "        print(\"You're not tall enough to ride, but may be next year! 😞\")\n",
        "\n",
        "\n",
        "# There is no need to edit code beyond this point\n",
        "\n",
        "if __name__ == '__main__':\n",
        "    main()"
      ],
      "metadata": {
        "colab": {
          "base_uri": "https://localhost:8080/"
        },
        "id": "15rS_O0SFVDA",
        "outputId": "f5ae1c18-3e74-4172-ae93-e988c6669874"
      },
      "execution_count": null,
      "outputs": [
        {
          "output_type": "stream",
          "name": "stdout",
          "text": [
            "How tall are you ? ....👉.... 39\n",
            "You're tall enough to ride!!!😇\n"
          ]
        }
      ]
    }
  ]
}