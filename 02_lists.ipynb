{
  "nbformat": 4,
  "nbformat_minor": 0,
  "metadata": {
    "colab": {
      "provenance": [],
      "authorship_tag": "ABX9TyOlIbjS3MYmJJdtohKtk9Qr",
      "include_colab_link": true
    },
    "kernelspec": {
      "name": "python3",
      "display_name": "Python 3"
    },
    "language_info": {
      "name": "python"
    }
  },
  "cells": [
    {
      "cell_type": "markdown",
      "metadata": {
        "id": "view-in-github",
        "colab_type": "text"
      },
      "source": [
        "<a href=\"https://colab.research.google.com/github/ShumailDilshadRao/assignment-4/blob/main/02_lists.ipynb\" target=\"_parent\"><img src=\"https://colab.research.google.com/assets/colab-badge.svg\" alt=\"Open In Colab\"/></a>"
      ]
    },
    {
      "cell_type": "markdown",
      "source": [
        "# 02_lists (add_many_number)"
      ],
      "metadata": {
        "id": "9Rt1Rdixgt-D"
      }
    },
    {
      "cell_type": "code",
      "source": [
        "# Write a function that takes a list of numbers and returns the sum of those numbers.\n",
        "def add_many_numbers(numbers)-> int:\n",
        "    \"\"\"\n",
        "    Takes in a list of numbers and returns the sum of those numbers.\n",
        "    \"\"\"\n",
        "    total_so_far: int = 0\n",
        "    for number in numbers:\n",
        "       total_so_far += number\n",
        "\n",
        "    return total_so_far\n",
        "\n",
        "# There is no need to edit code beyond this point\n",
        "def main():\n",
        "  numbers :list[int] =[3,5,8,10,22,34,45,65]  # Make a list of numbers\n",
        "  sum_of_numbers :int = add_many_numbers(numbers)  # Find the sum of the list\n",
        "  print(sum_of_numbers)   # Print out the sum above\n",
        "\n",
        "if __name__ == '__main__':\n",
        "    main()"
      ],
      "metadata": {
        "colab": {
          "base_uri": "https://localhost:8080/"
        },
        "id": "Q1Mj8UgCjoQF",
        "outputId": "226109fa-0fa8-4f3e-b910-ce754f4ad6f8"
      },
      "execution_count": null,
      "outputs": [
        {
          "output_type": "stream",
          "name": "stdout",
          "text": [
            "192\n"
          ]
        }
      ]
    },
    {
      "cell_type": "markdown",
      "source": [
        "# double_list"
      ],
      "metadata": {
        "id": "kwMGMSLEjw_R"
      }
    },
    {
      "cell_type": "code",
      "source": [
        "def main():\n",
        "    numbers: list[int] = [2,3,6,12,34,52,63]  # Creates a list of numbers\n",
        "\n",
        "    for i in range(len(numbers)):   # Loop through the indices of the list\n",
        "     element_at_index  = numbers[i]  # Get the element at index i in the numbers list\n",
        "     numbers[i] = element_at_index * 2  # Set the element at index i to be equal to the previous element times 2\n",
        "\n",
        "    print(numbers)  # This should print the doubled list\n",
        "\n",
        "\n",
        "# There is no need to edit code beyond this point\n",
        "\n",
        "if __name__ == '__main__':\n",
        "    main()"
      ],
      "metadata": {
        "id": "IcuWnDIrnBX5"
      },
      "execution_count": null,
      "outputs": []
    },
    {
      "cell_type": "markdown",
      "source": [
        "# **erase_canvas**"
      ],
      "metadata": {
        "id": "AuAB6UbxnC6x"
      }
    },
    {
      "cell_type": "code",
      "source": [
        "import tkinter as tk\n",
        "import time\n",
        "\n",
        "# Constants\n",
        "CANVAS_WIDTH = 400\n",
        "CANVAS_HEIGHT = 400\n",
        "\n",
        "CELL_SIZE = 40\n",
        "ERASER_SIZE = 20\n",
        "\n",
        "def erase_objects(canvas, eraser):\n",
        "    \"\"\"Erase objects in contact with the eraser\"\"\"\n",
        "    mouse_x = canvas.winfo_pointerx() - canvas.winfo_rootx()\n",
        "    mouse_y = canvas.winfo_pointery() - canvas.winfo_rooty()\n",
        "\n",
        "    # Calculate eraser area\n",
        "    left_x = mouse_x\n",
        "    top_y = mouse_y\n",
        "    right_x = left_x + ERASER_SIZE\n",
        "    bottom_y = top_y + ERASER_SIZE\n",
        "\n",
        "    # Get all items on canvas\n",
        "    for item in canvas.find_all():\n",
        "        coords = canvas.coords(item)\n",
        "        if len(coords) == 4:\n",
        "            x1, y1, x2, y2 = coords\n",
        "            # Check if item overlaps with eraser\n",
        "            if not (x2 < left_x or x1 > right_x or y2 < top_y or y1 > bottom_y):\n",
        "                canvas.itemconfig(item, fill='yellow')\n",
        "\n",
        "def main():\n",
        "    root = tk.Tk()\n",
        "    root.title(\"Eraser Demo\")\n",
        "\n",
        "    canvas = tk.Canvas(root, width=CANVAS_WIDTH, height=CANVAS_HEIGHT, bg='pink')\n",
        "    canvas.pack()\n",
        "\n",
        "    num_rows = CANVAS_HEIGHT // CELL_SIZE\n",
        "    num_cols = CANVAS_WIDTH // CELL_SIZE\n",
        "\n",
        "    # Create grid\n",
        "    for row in range(num_rows):\n",
        "        for col in range(num_cols):\n",
        "            left_x = col * CELL_SIZE\n",
        "            top_y = row * CELL_SIZE\n",
        "            right_x = left_x + CELL_SIZE\n",
        "            bottom_y = top_y + CELL_SIZE\n",
        "\n",
        "            canvas.create_rectangle(left_x, top_y, right_x, bottom_y, fill='blue', outline='pink')\n",
        "\n",
        "    # Wait for user click to create eraser\n",
        "    root.update()\n",
        "    canvas.bind(\"<Button-1>\", lambda event: start_erasing(canvas))\n",
        "\n",
        "    root.mainloop()\n",
        "\n",
        "def start_erasing(canvas):\n",
        "    eraser = canvas.create_rectangle(0, 0, ERASER_SIZE, ERASER_SIZE, fill='pink', outline='black')\n",
        "\n",
        "    def move_eraser():\n",
        "        while True:\n",
        "            mouse_x = canvas.winfo_pointerx() - canvas.winfo_rootx()\n",
        "            mouse_y = canvas.winfo_pointery() - canvas.winfo_rooty()\n",
        "\n",
        "            canvas.coords(eraser, mouse_x, mouse_y, mouse_x + ERASER_SIZE, mouse_y + ERASER_SIZE)\n",
        "            erase_objects(canvas, eraser)\n",
        "            canvas.update()\n",
        "            time.sleep(0.05)\n",
        "\n",
        "    import threading\n",
        "    threading.Thread(target=move_eraser, daemon=True).start()\n",
        "\n",
        "if __name__ == '__main__':\n",
        "    main()"
      ],
      "metadata": {
        "id": "xtNc8UJjnSG1"
      },
      "execution_count": null,
      "outputs": []
    },
    {
      "cell_type": "markdown",
      "source": [
        "# **flowing_with_data_structures**"
      ],
      "metadata": {
        "id": "7AvaZIgonfvr"
      }
    },
    {
      "cell_type": "code",
      "source": [
        "def add_three_copies(my_list, data):\n",
        " for i in range(7):\n",
        "     my_list.append(data)\n",
        "\n",
        "########## No need to edit code past this point\n",
        "\n",
        "def main():\n",
        "     message =input(\"Enter a message to copy:.......\")\n",
        "     my_list =[]\n",
        "     print(\"list_before:....\",my_list)\n",
        "     add_three_copies (my_list,message)\n",
        "     print(\"list_after:...\",my_list)\n",
        "\n",
        "\n",
        "if __name__ == \"__main__\":\n",
        "    main()"
      ],
      "metadata": {
        "id": "ca1XkR1bnuHA"
      },
      "execution_count": null,
      "outputs": []
    },
    {
      "cell_type": "markdown",
      "source": [
        "# **get_first_element**"
      ],
      "metadata": {
        "id": "tlsBtNTsoFXG"
      }
    },
    {
      "cell_type": "code",
      "source": [
        "\n",
        "def get_first_element(list):\n",
        "    \"\"\"\n",
        "    Prints the first element of a provided list.\n",
        "    \"\"\"\n",
        "\n",
        "    print(list[0])\n",
        "\n",
        "# There is no need to edit code beyond this point\n",
        "\n",
        "def get_list():\n",
        "    \"\"\"\n",
        "    Prompts the user to enter one element of the list at a time and returns the resulting list.\n",
        "    \"\"\"\n",
        "    list = []\n",
        "    element: str = input(\"Please enter an element of the list or press enter to stop. \")\n",
        "    while element != \"\":\n",
        "        list.append(element)\n",
        "        element = input(\"Please enter an element of the list or press enter to stop. \")\n",
        "    return list\n",
        "\n",
        "def main():\n",
        "    list = get_list()\n",
        "    get_first_element(list)\n",
        "\n",
        "\n",
        "if __name__ == '__main__':\n",
        "    main()\n"
      ],
      "metadata": {
        "id": "q7LQe0hYoQbd"
      },
      "execution_count": null,
      "outputs": []
    },
    {
      "cell_type": "markdown",
      "source": [
        "# **get_last_element**"
      ],
      "metadata": {
        "id": "KAtX1NFaoX6w"
      }
    },
    {
      "cell_type": "code",
      "source": [
        "def get_last_element(list):\n",
        "    \"\"\"\n",
        "    Prints the last element of a provided list.\n",
        "    \"\"\"\n",
        "    print(list[-1])\n",
        "# There is no need to edit code beyond this point\n",
        "\n",
        "def get_list():\n",
        "    \"\"\"\n",
        "    Prompts the user to enter one element of the list at a time and returns the resulting list.\n",
        "    \"\"\"\n",
        "    list = []\n",
        "    element: str = input(\"Please enter an element of the list or press enter to stop. \")\n",
        "    while element != \"\":\n",
        "        list.append(element)\n",
        "        element = input(\"Please enter an element of the list or press enter to stop. \")\n",
        "    return list\n",
        "\n",
        "def main():\n",
        "    list = get_list()\n",
        "    get_last_element(list)\n",
        "\n",
        "\n",
        "if __name__ == '__main__':\n",
        "    main()\n",
        "\n"
      ],
      "metadata": {
        "id": "B8vvD642or3I"
      },
      "execution_count": null,
      "outputs": []
    },
    {
      "cell_type": "markdown",
      "source": [
        "# **get_list**"
      ],
      "metadata": {
        "id": "6sB_lzfyo48E"
      }
    },
    {
      "cell_type": "code",
      "source": [
        "def main():\n",
        "    list = []  # Make an empty list to store things in\n",
        "\n",
        "    value = input(\"Enter a value: \")  # Get an initial value\n",
        "    while value:  # While the user input isn't an empty value\n",
        "        list.append(value) # Add val to list\n",
        "        value = input(\"Enter a value: \")  # Get the next value to add\n",
        "\n",
        "    print(\"Here's the list:\", list)\n",
        "\n",
        "\n",
        "# There is no need to edit code beyond this point\n",
        "\n",
        "if __name__ == '__main__':\n",
        "    main()"
      ],
      "metadata": {
        "id": "ZSJMoqGKpA2U"
      },
      "execution_count": null,
      "outputs": []
    },
    {
      "cell_type": "markdown",
      "source": [
        "# **shorten**"
      ],
      "metadata": {
        "id": "MWUAoVM7pIdd"
      }
    },
    {
      "cell_type": "code",
      "source": [
        "MAX_LENGTH : int = 3\n",
        "def shorten(list):\n",
        "    while len(list) > MAX_LENGTH:\n",
        "        last_element = list.pop()\n",
        "        print(last_element)\n",
        "\n",
        "# There is no need to edit code beyond this point\n",
        "def get_list():\n",
        "    \"\"\"\n",
        "    Prompts the user to enter one element of the list at a time and returns the resulting list.\n",
        "    \"\"\"\n",
        "    list = []\n",
        "    element = input(\"Please enter an element of the list or press enter to stop.......... \")\n",
        "    while element != \"\":\n",
        "        list.append(element)\n",
        "        element = input(\"Please enter an element of the list or press enter to stop._______ \")\n",
        "    return list\n",
        "\n",
        "def main():\n",
        "    list = get_list()\n",
        "    shorten(list)\n",
        "\n",
        "\n",
        "if __name__ == '__main__':\n",
        "    main()"
      ],
      "metadata": {
        "id": "Qxc_OHtopPoP"
      },
      "execution_count": null,
      "outputs": []
    }
  ]
}