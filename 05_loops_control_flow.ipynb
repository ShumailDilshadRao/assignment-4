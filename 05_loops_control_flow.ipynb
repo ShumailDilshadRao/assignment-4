{
  "nbformat": 4,
  "nbformat_minor": 0,
  "metadata": {
    "colab": {
      "provenance": [],
      "authorship_tag": "ABX9TyMz/hbmpGr5VhJgEq1xPhp2",
      "include_colab_link": true
    },
    "kernelspec": {
      "name": "python3",
      "display_name": "Python 3"
    },
    "language_info": {
      "name": "python"
    }
  },
  "cells": [
    {
      "cell_type": "markdown",
      "metadata": {
        "id": "view-in-github",
        "colab_type": "text"
      },
      "source": [
        "<a href=\"https://colab.research.google.com/github/ShumailDilshadRao/assignment-4/blob/main/05_loops_control_flow.ipynb\" target=\"_parent\"><img src=\"https://colab.research.google.com/assets/colab-badge.svg\" alt=\"Open In Colab\"/></a>"
      ]
    },
    {
      "cell_type": "code",
      "execution_count": null,
      "metadata": {
        "id": "LpDRQeFsI5jF"
      },
      "outputs": [],
      "source": []
    },
    {
      "cell_type": "markdown",
      "source": [
        "# **double_it**"
      ],
      "metadata": {
        "id": "sQHE6O94JQLZ"
      }
    },
    {
      "cell_type": "code",
      "source": [
        "def main():\n",
        "    curr_value = int(input(\"Please enter an integer to be doubled: \"))\n",
        "\n",
        "    while curr_value < 100:\n",
        "        curr_value *= 2  # Double the value\n",
        "        print(curr_value,\"Right 🎉\")\n",
        "        if curr_value > 100:\n",
        "            print(curr_value, \"❌\")  # Show only when less than 100\n",
        "        else:\n",
        "            print(curr_value)\n",
        "\n",
        "    if curr_value >= 100:\n",
        "        print(\"Wrong decision ❌.. Please enter another integer. The integer must be less than 100.\")\n",
        "\n",
        "if __name__ == '__main__':\n",
        "    main()"
      ],
      "metadata": {
        "colab": {
          "base_uri": "https://localhost:8080/"
        },
        "id": "ykG_RPTAJTST",
        "outputId": "5c522358-acbe-4dd1-c717-028025c4dea4"
      },
      "execution_count": 1,
      "outputs": [
        {
          "output_type": "stream",
          "name": "stdout",
          "text": [
            "Please enter an integer to be doubled: 6\n",
            "12 Right 🎉\n",
            "12\n",
            "24 Right 🎉\n",
            "24\n",
            "48 Right 🎉\n",
            "48\n",
            "96 Right 🎉\n",
            "96\n",
            "192 Right 🎉\n",
            "192 ❌\n",
            "Wrong decision ❌.. Please enter another integer. The integer must be less than 100.\n"
          ]
        }
      ]
    },
    {
      "cell_type": "markdown",
      "source": [
        "# **fibonacci**"
      ],
      "metadata": {
        "id": "xKkVzUgoJhK8"
      }
    },
    {
      "cell_type": "code",
      "source": [
        "\n",
        "MAX_TERM_VALUE : int = 100\n",
        "\n",
        "def main():\n",
        "   current_term = 0   # The 0th Fibonacci Number\n",
        "   next_term = 1      # The 1st Fibonacci Number\n",
        "   while current_term <= MAX_TERM_VALUE:\n",
        "       print(current_term)\n",
        "       term_after_next = current_term + next_term\n",
        "       current_term = next_term\n",
        "       next_term = term_after_next\n",
        "\n",
        "\n",
        "# There is no need to edit code beyond this point\n",
        "\n",
        "if __name__ == '__main__':\n",
        "    main()"
      ],
      "metadata": {
        "colab": {
          "base_uri": "https://localhost:8080/"
        },
        "id": "1vnpfSljJpHn",
        "outputId": "848d12ef-8ab0-464b-af23-00355d639ccc"
      },
      "execution_count": 2,
      "outputs": [
        {
          "output_type": "stream",
          "name": "stdout",
          "text": [
            "0\n",
            "1\n",
            "1\n",
            "2\n",
            "3\n",
            "5\n",
            "8\n",
            "13\n",
            "21\n",
            "34\n",
            "55\n",
            "89\n"
          ]
        }
      ]
    },
    {
      "cell_type": "markdown",
      "source": [
        "#  **guess_my_number**"
      ],
      "metadata": {
        "id": "ottpxAgOJy7x"
      }
    },
    {
      "cell_type": "code",
      "source": [
        "import random\n",
        "\n",
        "def main():\n",
        "    # Generate the secret number at random!\n",
        "    secret_number = random.randint(1, 99)\n",
        "\n",
        "    print(\"I am thinking of a number between 1 and 99...\")\n",
        "\n",
        "    # Get user's guess\n",
        "    guess = int(input(\"Enter a guess:__😶__ \"))\n",
        "    # True if guess is not equal to secret number\n",
        "    while guess != secret_number:\n",
        "        if guess < secret_number:  # If-statement is True if guess is less than secret number\n",
        "            print(\"Your guess is too low.😞\")\n",
        "        else:\n",
        "            print(\"Your guess is too high.😊\")\n",
        "\n",
        "        print() # Print an empty line to tidy up the console for new guesses\n",
        "        guess = int(input(\"Enter a new guess:....🤔...\"))  # Get a new guess from the user\n",
        "\n",
        "    print(f\"Congrats!🎊🎇🎉 The number was: {secret_number}\")\n",
        "\n",
        "if __name__ == '__main__':\n",
        "    main()"
      ],
      "metadata": {
        "colab": {
          "base_uri": "https://localhost:8080/"
        },
        "id": "R01o-DNFJ653",
        "outputId": "d30cf372-17d1-4872-ee41-53ee1f961f39"
      },
      "execution_count": 3,
      "outputs": [
        {
          "output_type": "stream",
          "name": "stdout",
          "text": [
            "I am thinking of a number between 1 and 99...\n",
            "Enter a guess:__😶__ 56\n",
            "Your guess is too low.😞\n",
            "\n",
            "Enter a new guess:....🤔...77\n",
            "Your guess is too high.😊\n",
            "\n",
            "Enter a new guess:....🤔...70\n",
            "Your guess is too high.😊\n",
            "\n",
            "Enter a new guess:....🤔...65\n",
            "Your guess is too high.😊\n",
            "\n",
            "Enter a new guess:....🤔...60\n",
            "Your guess is too high.😊\n",
            "\n",
            "Enter a new guess:....🤔...58\n",
            "Congrats!🎊🎇🎉 The number was: 58\n"
          ]
        }
      ]
    },
    {
      "cell_type": "markdown",
      "source": [
        "# **liftoff**"
      ],
      "metadata": {
        "id": "SyMwR66IKPzQ"
      }
    },
    {
      "cell_type": "code",
      "source": [
        "def main():\n",
        "    #1st method:\n",
        "    for i in range(10):  # 0 se 9 tak straight counting\n",
        "        print(i , end = '')  # Output ek hi line mein rahega\n",
        "    print(\"Liftoff!\")  # Aakhri message\n",
        "\n",
        "    #2nd method:\n",
        "    for i in range(10 , 0 , -1):  # 10 se 1 tak reverse counting\n",
        "        print(i)  # Output horizantal mein rahega\n",
        "    print(\"Liftoff!\")  # Aakhri message\n",
        "\n",
        "# This provided line is required at the end of\n",
        "# Python file to call the main() function.\n",
        "if __name__ == '__main__':\n",
        "    main()"
      ],
      "metadata": {
        "colab": {
          "base_uri": "https://localhost:8080/"
        },
        "id": "gqD64e7LKdGi",
        "outputId": "aeb46f2c-4e0c-466b-f3c0-98235ecaf164"
      },
      "execution_count": 4,
      "outputs": [
        {
          "output_type": "stream",
          "name": "stdout",
          "text": [
            "0123456789Liftoff!\n",
            "10\n",
            "9\n",
            "8\n",
            "7\n",
            "6\n",
            "5\n",
            "4\n",
            "3\n",
            "2\n",
            "1\n",
            "Liftoff!\n"
          ]
        }
      ]
    },
    {
      "cell_type": "markdown",
      "source": [
        "# **print_events**"
      ],
      "metadata": {
        "id": "Tj7DIgJpK5C7"
      }
    },
    {
      "cell_type": "code",
      "source": [
        "def main():\n",
        "    # This for-loop start at 0 and counts up to 19 (for a total of 20 numbers)\n",
        "    # Even numbers\n",
        "    for i in range(20):\n",
        "        print(i * 2)  # Use the 'i' value inside the for-loop\n",
        "    # Odd numbers\n",
        "    #for i in range(10):\n",
        "        #print(i * 3)  # Use the 'i' value inside the for-loop\n",
        "\n",
        "\n",
        "# Call the main function when \"run\", no need to edit anything below!\n",
        "if __name__ == \"__main__\":\n",
        "    main()"
      ],
      "metadata": {
        "colab": {
          "base_uri": "https://localhost:8080/"
        },
        "id": "0CUWhJdmK9LQ",
        "outputId": "97e64798-f984-4c7a-96f4-9eb28a5ff9cd"
      },
      "execution_count": 6,
      "outputs": [
        {
          "output_type": "stream",
          "name": "stdout",
          "text": [
            "0\n",
            "2\n",
            "4\n",
            "6\n",
            "8\n",
            "10\n",
            "12\n",
            "14\n",
            "16\n",
            "18\n",
            "20\n",
            "22\n",
            "24\n",
            "26\n",
            "28\n",
            "30\n",
            "32\n",
            "34\n",
            "36\n",
            "38\n"
          ]
        }
      ]
    },
    {
      "cell_type": "markdown",
      "source": [
        "# **wholesome_machine**"
      ],
      "metadata": {
        "id": "HIktgmmGLMfX"
      }
    },
    {
      "cell_type": "code",
      "source": [
        "AFFIRMATION : str = \"I am capable of doing anything I put my mind to.\"\n",
        "\n",
        "def main():\n",
        "    print(\"Please type the following affirmation: \" + AFFIRMATION)\n",
        "\n",
        "    user_feedback = input()  # Get user's input\n",
        "    while user_feedback != AFFIRMATION:  # While the user's input isn't the affirmation\n",
        "        # Tell the user that they did not type the affirmation correctly\n",
        "        print(\"That was not the affirmation.\")\n",
        "\n",
        "        # Ask the user to type the affirmation again!\n",
        "        print(\"Please type the following affirmation: \" + AFFIRMATION)\n",
        "        user_feedback = input()\n",
        "\n",
        "    print(\"That's right! :)\")\n",
        "\n",
        "\n",
        "# There is no need to edit code beyond this point\n",
        "\n",
        "if __name__ == '__main__':\n",
        "    main()"
      ],
      "metadata": {
        "id": "EZWL5n3iTp2Y"
      },
      "execution_count": null,
      "outputs": []
    }
  ]
}