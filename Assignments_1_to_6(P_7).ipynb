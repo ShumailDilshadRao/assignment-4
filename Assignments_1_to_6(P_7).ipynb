{
  "nbformat": 4,
  "nbformat_minor": 0,
  "metadata": {
    "colab": {
      "provenance": [],
      "authorship_tag": "ABX9TyMcx1Iewg/nhjVoUvjKSQ2Q",
      "include_colab_link": true
    },
    "kernelspec": {
      "name": "python3",
      "display_name": "Python 3"
    },
    "language_info": {
      "name": "python"
    }
  },
  "cells": [
    {
      "cell_type": "markdown",
      "metadata": {
        "id": "view-in-github",
        "colab_type": "text"
      },
      "source": [
        "<a href=\"https://colab.research.google.com/github/ShumailDilshadRao/assignment-4/blob/main/Assignments_1_to_6(P_7).ipynb\" target=\"_parent\"><img src=\"https://colab.research.google.com/assets/colab-badge.svg\" alt=\"Open In Colab\"/></a>"
      ]
    },
    {
      "cell_type": "markdown",
      "source": [
        "# **Project 7 Password Generator Python Project**"
      ],
      "metadata": {
        "id": "AR1_54x0TkSe"
      }
    },
    {
      "cell_type": "code",
      "source": [
        "import random\n",
        "\n",
        "print('Welcome To Your Password Generator')\n",
        "\n",
        "chars = 'abcdefghijklmnopqrstuvwxyzABCDEFGHIJKLMNOPQRSTUVWXYZ!@#$%^&*()_<:.>/\\[]'\n",
        "\n",
        "number = input('Amount of password to generate:')\n",
        "number = int(number)\n",
        "\n",
        "length = input('Input your password length:')\n",
        "\n",
        "length = int(length)\n",
        "\n",
        "print('\\n here are your password:')\n",
        "\n",
        "for pwd in range (number):\n",
        "    password = ' '\n",
        "    for c in range(length):\n",
        "        password += random.choice(chars)\n",
        "        print('passwords')"
      ],
      "metadata": {
        "id": "kKcC_tiSTopl"
      },
      "execution_count": null,
      "outputs": []
    }
  ]
}